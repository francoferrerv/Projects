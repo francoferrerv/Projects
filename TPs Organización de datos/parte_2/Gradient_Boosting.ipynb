{
 "cells": [
  {
   "cell_type": "markdown",
   "metadata": {
    "id": "G7usxUPuIV7f",
    "tags": []
   },
   "source": [
    "# Modelo: Gradient Boosting"
   ]
  },
  {
   "cell_type": "code",
   "execution_count": 1,
   "metadata": {
    "id": "U3QwNkMUxAP_"
   },
   "outputs": [],
   "source": [
    "import numpy as np\n",
    "import pandas as pd\n",
    "from matplotlib import pyplot as plt\n",
    "import seaborn as sns\n",
    "import sklearn\n",
    "from sklearn.preprocessing import MinMaxScaler\n",
    "from sklearn.feature_selection import VarianceThreshold\n",
    "from sklearn.feature_selection import SequentialFeatureSelector\n",
    "from sklearn.model_selection import RandomizedSearchCV\n",
    "from sklearn.model_selection import KFold, StratifiedKFold\n",
    "from sklearn.metrics import f1_score, accuracy_score\n",
    "from sklearn.metrics import confusion_matrix\n",
    "from sklearn.metrics import classification_report\n",
    "from sklearn.metrics import roc_curve, auc\n",
    "from sklearn.metrics import roc_auc_score\n",
    "\n",
    "from sklearn.ensemble import GradientBoostingClassifier"
   ]
  },
  {
   "cell_type": "code",
   "execution_count": 2,
   "metadata": {
    "colab": {
     "base_uri": "https://localhost:8080/",
     "height": 634
    },
    "id": "FhMUydcXynEa",
    "outputId": "60e11cbb-0656-4870-fc84-3eb4881d24bb"
   },
   "outputs": [
    {
     "data": {
      "text/html": [
       "<div>\n",
       "<style scoped>\n",
       "    .dataframe tbody tr th:only-of-type {\n",
       "        vertical-align: middle;\n",
       "    }\n",
       "\n",
       "    .dataframe tbody tr th {\n",
       "        vertical-align: top;\n",
       "    }\n",
       "\n",
       "    .dataframe thead th {\n",
       "        text-align: right;\n",
       "    }\n",
       "</style>\n",
       "<table border=\"1\" class=\"dataframe\">\n",
       "  <thead>\n",
       "    <tr style=\"text-align: right;\">\n",
       "      <th></th>\n",
       "      <th>barrio</th>\n",
       "      <th>dia</th>\n",
       "      <th>direccion_viento_tarde</th>\n",
       "      <th>direccion_viento_temprano</th>\n",
       "      <th>horas_de_sol</th>\n",
       "      <th>humedad_tarde</th>\n",
       "      <th>humedad_temprano</th>\n",
       "      <th>id</th>\n",
       "      <th>llovieron_hamburguesas_hoy</th>\n",
       "      <th>mm_evaporados_agua</th>\n",
       "      <th>...</th>\n",
       "      <th>presion_atmosferica_temprano</th>\n",
       "      <th>rafaga_viento_max_direccion</th>\n",
       "      <th>rafaga_viento_max_velocidad</th>\n",
       "      <th>temp_max</th>\n",
       "      <th>temp_min</th>\n",
       "      <th>temperatura_tarde</th>\n",
       "      <th>temperatura_temprano</th>\n",
       "      <th>velocidad_viendo_tarde</th>\n",
       "      <th>velocidad_viendo_temprano</th>\n",
       "      <th>llovieron_hamburguesas_al_dia_siguiente</th>\n",
       "    </tr>\n",
       "  </thead>\n",
       "  <tbody>\n",
       "    <tr>\n",
       "      <th>0</th>\n",
       "      <td>Retiro</td>\n",
       "      <td>2016-10-11</td>\n",
       "      <td>Este</td>\n",
       "      <td>Nornoreste</td>\n",
       "      <td>10.7</td>\n",
       "      <td>59.0</td>\n",
       "      <td>56.0</td>\n",
       "      <td>86942</td>\n",
       "      <td>no</td>\n",
       "      <td>16.0</td>\n",
       "      <td>...</td>\n",
       "      <td>1010.2</td>\n",
       "      <td>Estesureste</td>\n",
       "      <td>33.0</td>\n",
       "      <td>29.2</td>\n",
       "      <td>16.8</td>\n",
       "      <td>24.1</td>\n",
       "      <td>25.3</td>\n",
       "      <td>19.0</td>\n",
       "      <td>4.0</td>\n",
       "      <td>no</td>\n",
       "    </tr>\n",
       "    <tr>\n",
       "      <th>1</th>\n",
       "      <td>Vélez Sársfield</td>\n",
       "      <td>2016-03-28</td>\n",
       "      <td>Sur</td>\n",
       "      <td>suroeste</td>\n",
       "      <td>0.0</td>\n",
       "      <td>49.0</td>\n",
       "      <td>83.0</td>\n",
       "      <td>102098</td>\n",
       "      <td>no</td>\n",
       "      <td>2.6</td>\n",
       "      <td>...</td>\n",
       "      <td>1021.4</td>\n",
       "      <td>Sur</td>\n",
       "      <td>31.0</td>\n",
       "      <td>16.9</td>\n",
       "      <td>10.6</td>\n",
       "      <td>16.4</td>\n",
       "      <td>12.3</td>\n",
       "      <td>13.0</td>\n",
       "      <td>7.0</td>\n",
       "      <td>no</td>\n",
       "    </tr>\n",
       "    <tr>\n",
       "      <th>2</th>\n",
       "      <td>Palermo</td>\n",
       "      <td>2017-05-11</td>\n",
       "      <td>Sursureste</td>\n",
       "      <td>Norte</td>\n",
       "      <td>4.3</td>\n",
       "      <td>59.0</td>\n",
       "      <td>83.0</td>\n",
       "      <td>67154</td>\n",
       "      <td>no</td>\n",
       "      <td>2.4</td>\n",
       "      <td>...</td>\n",
       "      <td>1026.5</td>\n",
       "      <td>Norte</td>\n",
       "      <td>26.0</td>\n",
       "      <td>16.6</td>\n",
       "      <td>4.4</td>\n",
       "      <td>15.7</td>\n",
       "      <td>9.4</td>\n",
       "      <td>9.0</td>\n",
       "      <td>13.0</td>\n",
       "      <td>no</td>\n",
       "    </tr>\n",
       "    <tr>\n",
       "      <th>3</th>\n",
       "      <td>Mataderos</td>\n",
       "      <td>2012-05-07</td>\n",
       "      <td>suroeste</td>\n",
       "      <td>Sur</td>\n",
       "      <td>NaN</td>\n",
       "      <td>67.0</td>\n",
       "      <td>93.0</td>\n",
       "      <td>50245</td>\n",
       "      <td>no</td>\n",
       "      <td>NaN</td>\n",
       "      <td>...</td>\n",
       "      <td>1020.0</td>\n",
       "      <td>Oestesuroeste</td>\n",
       "      <td>13.0</td>\n",
       "      <td>11.4</td>\n",
       "      <td>0.8</td>\n",
       "      <td>11.1</td>\n",
       "      <td>4.0</td>\n",
       "      <td>6.0</td>\n",
       "      <td>6.0</td>\n",
       "      <td>no</td>\n",
       "    </tr>\n",
       "    <tr>\n",
       "      <th>4</th>\n",
       "      <td>Recoleta</td>\n",
       "      <td>2014-06-19</td>\n",
       "      <td>Nornoreste</td>\n",
       "      <td>Nornoreste</td>\n",
       "      <td>0.8</td>\n",
       "      <td>94.0</td>\n",
       "      <td>97.0</td>\n",
       "      <td>82904</td>\n",
       "      <td>no</td>\n",
       "      <td>0.8</td>\n",
       "      <td>...</td>\n",
       "      <td>1021.9</td>\n",
       "      <td>Nornoreste</td>\n",
       "      <td>33.0</td>\n",
       "      <td>11.6</td>\n",
       "      <td>6.7</td>\n",
       "      <td>11.2</td>\n",
       "      <td>8.8</td>\n",
       "      <td>11.0</td>\n",
       "      <td>15.0</td>\n",
       "      <td>no</td>\n",
       "    </tr>\n",
       "    <tr>\n",
       "      <th>...</th>\n",
       "      <td>...</td>\n",
       "      <td>...</td>\n",
       "      <td>...</td>\n",
       "      <td>...</td>\n",
       "      <td>...</td>\n",
       "      <td>...</td>\n",
       "      <td>...</td>\n",
       "      <td>...</td>\n",
       "      <td>...</td>\n",
       "      <td>...</td>\n",
       "      <td>...</td>\n",
       "      <td>...</td>\n",
       "      <td>...</td>\n",
       "      <td>...</td>\n",
       "      <td>...</td>\n",
       "      <td>...</td>\n",
       "      <td>...</td>\n",
       "      <td>...</td>\n",
       "      <td>...</td>\n",
       "      <td>...</td>\n",
       "      <td>...</td>\n",
       "    </tr>\n",
       "    <tr>\n",
       "      <th>116363</th>\n",
       "      <td>Villa Lugano</td>\n",
       "      <td>2011-03-07</td>\n",
       "      <td>Oestesuroeste</td>\n",
       "      <td>Sureste</td>\n",
       "      <td>11.6</td>\n",
       "      <td>35.0</td>\n",
       "      <td>44.0</td>\n",
       "      <td>118424</td>\n",
       "      <td>no</td>\n",
       "      <td>8.4</td>\n",
       "      <td>...</td>\n",
       "      <td>1015.9</td>\n",
       "      <td>suroeste</td>\n",
       "      <td>43.0</td>\n",
       "      <td>28.7</td>\n",
       "      <td>17.4</td>\n",
       "      <td>27.8</td>\n",
       "      <td>23.0</td>\n",
       "      <td>30.0</td>\n",
       "      <td>11.0</td>\n",
       "      <td>no</td>\n",
       "    </tr>\n",
       "    <tr>\n",
       "      <th>116364</th>\n",
       "      <td>Saavedra</td>\n",
       "      <td>2009-07-25</td>\n",
       "      <td>Sureste</td>\n",
       "      <td>Sursureste</td>\n",
       "      <td>1.0</td>\n",
       "      <td>68.0</td>\n",
       "      <td>80.0</td>\n",
       "      <td>87436</td>\n",
       "      <td>no</td>\n",
       "      <td>7.4</td>\n",
       "      <td>...</td>\n",
       "      <td>1018.2</td>\n",
       "      <td>Sureste</td>\n",
       "      <td>44.0</td>\n",
       "      <td>26.3</td>\n",
       "      <td>19.0</td>\n",
       "      <td>24.0</td>\n",
       "      <td>21.9</td>\n",
       "      <td>30.0</td>\n",
       "      <td>19.0</td>\n",
       "      <td>si</td>\n",
       "    </tr>\n",
       "    <tr>\n",
       "      <th>116365</th>\n",
       "      <td>Villa General Mitre</td>\n",
       "      <td>2013-11-11</td>\n",
       "      <td>suroeste</td>\n",
       "      <td>Sur</td>\n",
       "      <td>11.1</td>\n",
       "      <td>19.0</td>\n",
       "      <td>43.0</td>\n",
       "      <td>116306</td>\n",
       "      <td>no</td>\n",
       "      <td>NaN</td>\n",
       "      <td>...</td>\n",
       "      <td>1014.4</td>\n",
       "      <td>Oestesuroeste</td>\n",
       "      <td>35.0</td>\n",
       "      <td>34.5</td>\n",
       "      <td>10.2</td>\n",
       "      <td>32.8</td>\n",
       "      <td>24.2</td>\n",
       "      <td>24.0</td>\n",
       "      <td>9.0</td>\n",
       "      <td>no</td>\n",
       "    </tr>\n",
       "    <tr>\n",
       "      <th>116366</th>\n",
       "      <td>Villa Devoto</td>\n",
       "      <td>2010-08-17</td>\n",
       "      <td>Sursuroeste</td>\n",
       "      <td>NaN</td>\n",
       "      <td>NaN</td>\n",
       "      <td>71.0</td>\n",
       "      <td>99.0</td>\n",
       "      <td>112204</td>\n",
       "      <td>no</td>\n",
       "      <td>NaN</td>\n",
       "      <td>...</td>\n",
       "      <td>1005.2</td>\n",
       "      <td>Sursuroeste</td>\n",
       "      <td>43.0</td>\n",
       "      <td>16.5</td>\n",
       "      <td>5.0</td>\n",
       "      <td>13.6</td>\n",
       "      <td>11.4</td>\n",
       "      <td>26.0</td>\n",
       "      <td>0.0</td>\n",
       "      <td>si</td>\n",
       "    </tr>\n",
       "    <tr>\n",
       "      <th>116367</th>\n",
       "      <td>Flores</td>\n",
       "      <td>2010-11-08</td>\n",
       "      <td>Noreste</td>\n",
       "      <td>Nornoreste</td>\n",
       "      <td>7.9</td>\n",
       "      <td>44.0</td>\n",
       "      <td>58.0</td>\n",
       "      <td>34196</td>\n",
       "      <td>no</td>\n",
       "      <td>5.8</td>\n",
       "      <td>...</td>\n",
       "      <td>1017.1</td>\n",
       "      <td>Oestesuroeste</td>\n",
       "      <td>76.0</td>\n",
       "      <td>27.9</td>\n",
       "      <td>16.2</td>\n",
       "      <td>24.9</td>\n",
       "      <td>23.6</td>\n",
       "      <td>41.0</td>\n",
       "      <td>13.0</td>\n",
       "      <td>si</td>\n",
       "    </tr>\n",
       "  </tbody>\n",
       "</table>\n",
       "<p>116368 rows × 24 columns</p>\n",
       "</div>"
      ],
      "text/plain": [
       "                     barrio         dia direccion_viento_tarde  \\\n",
       "0                    Retiro  2016-10-11                   Este   \n",
       "1           Vélez Sársfield  2016-03-28                    Sur   \n",
       "2                   Palermo  2017-05-11             Sursureste   \n",
       "3                 Mataderos  2012-05-07               suroeste   \n",
       "4                  Recoleta  2014-06-19             Nornoreste   \n",
       "...                     ...         ...                    ...   \n",
       "116363         Villa Lugano  2011-03-07          Oestesuroeste   \n",
       "116364             Saavedra  2009-07-25                Sureste   \n",
       "116365  Villa General Mitre  2013-11-11               suroeste   \n",
       "116366         Villa Devoto  2010-08-17            Sursuroeste   \n",
       "116367               Flores  2010-11-08                Noreste   \n",
       "\n",
       "       direccion_viento_temprano  horas_de_sol  humedad_tarde  \\\n",
       "0                     Nornoreste          10.7           59.0   \n",
       "1                       suroeste           0.0           49.0   \n",
       "2                          Norte           4.3           59.0   \n",
       "3                            Sur           NaN           67.0   \n",
       "4                     Nornoreste           0.8           94.0   \n",
       "...                          ...           ...            ...   \n",
       "116363                   Sureste          11.6           35.0   \n",
       "116364                Sursureste           1.0           68.0   \n",
       "116365                       Sur          11.1           19.0   \n",
       "116366                       NaN           NaN           71.0   \n",
       "116367                Nornoreste           7.9           44.0   \n",
       "\n",
       "        humedad_temprano      id llovieron_hamburguesas_hoy  \\\n",
       "0                   56.0   86942                         no   \n",
       "1                   83.0  102098                         no   \n",
       "2                   83.0   67154                         no   \n",
       "3                   93.0   50245                         no   \n",
       "4                   97.0   82904                         no   \n",
       "...                  ...     ...                        ...   \n",
       "116363              44.0  118424                         no   \n",
       "116364              80.0   87436                         no   \n",
       "116365              43.0  116306                         no   \n",
       "116366              99.0  112204                         no   \n",
       "116367              58.0   34196                         no   \n",
       "\n",
       "        mm_evaporados_agua  ...  presion_atmosferica_temprano  \\\n",
       "0                     16.0  ...                        1010.2   \n",
       "1                      2.6  ...                        1021.4   \n",
       "2                      2.4  ...                        1026.5   \n",
       "3                      NaN  ...                        1020.0   \n",
       "4                      0.8  ...                        1021.9   \n",
       "...                    ...  ...                           ...   \n",
       "116363                 8.4  ...                        1015.9   \n",
       "116364                 7.4  ...                        1018.2   \n",
       "116365                 NaN  ...                        1014.4   \n",
       "116366                 NaN  ...                        1005.2   \n",
       "116367                 5.8  ...                        1017.1   \n",
       "\n",
       "        rafaga_viento_max_direccion  rafaga_viento_max_velocidad temp_max  \\\n",
       "0                       Estesureste                         33.0     29.2   \n",
       "1                               Sur                         31.0     16.9   \n",
       "2                             Norte                         26.0     16.6   \n",
       "3                     Oestesuroeste                         13.0     11.4   \n",
       "4                        Nornoreste                         33.0     11.6   \n",
       "...                             ...                          ...      ...   \n",
       "116363                     suroeste                         43.0     28.7   \n",
       "116364                      Sureste                         44.0     26.3   \n",
       "116365                Oestesuroeste                         35.0     34.5   \n",
       "116366                  Sursuroeste                         43.0     16.5   \n",
       "116367                Oestesuroeste                         76.0     27.9   \n",
       "\n",
       "        temp_min temperatura_tarde  temperatura_temprano  \\\n",
       "0           16.8              24.1                  25.3   \n",
       "1           10.6              16.4                  12.3   \n",
       "2            4.4              15.7                   9.4   \n",
       "3            0.8              11.1                   4.0   \n",
       "4            6.7              11.2                   8.8   \n",
       "...          ...               ...                   ...   \n",
       "116363      17.4              27.8                  23.0   \n",
       "116364      19.0              24.0                  21.9   \n",
       "116365      10.2              32.8                  24.2   \n",
       "116366       5.0              13.6                  11.4   \n",
       "116367      16.2              24.9                  23.6   \n",
       "\n",
       "        velocidad_viendo_tarde  velocidad_viendo_temprano  \\\n",
       "0                         19.0                        4.0   \n",
       "1                         13.0                        7.0   \n",
       "2                          9.0                       13.0   \n",
       "3                          6.0                        6.0   \n",
       "4                         11.0                       15.0   \n",
       "...                        ...                        ...   \n",
       "116363                    30.0                       11.0   \n",
       "116364                    30.0                       19.0   \n",
       "116365                    24.0                        9.0   \n",
       "116366                    26.0                        0.0   \n",
       "116367                    41.0                       13.0   \n",
       "\n",
       "        llovieron_hamburguesas_al_dia_siguiente  \n",
       "0                                            no  \n",
       "1                                            no  \n",
       "2                                            no  \n",
       "3                                            no  \n",
       "4                                            no  \n",
       "...                                         ...  \n",
       "116363                                       no  \n",
       "116364                                       si  \n",
       "116365                                       no  \n",
       "116366                                       si  \n",
       "116367                                       si  \n",
       "\n",
       "[116368 rows x 24 columns]"
      ]
     },
     "execution_count": 2,
     "metadata": {},
     "output_type": "execute_result"
    }
   ],
   "source": [
    "datos = pd.read_csv(\n",
    "    'https://docs.google.com/spreadsheets/d/1wduqo5WyYmCpaGnE81sLNGU0VSodIekMfpmEwU0fGqs/export?format=csv', low_memory=False\n",
    ")\n",
    "\n",
    "resultados = pd.read_csv(\n",
    "    'https://docs.google.com/spreadsheets/d/1gvZ03uAL6THwd04Y98GtIj6SeAHiKyQY5UisuuyFSUs/export?format=csv', low_memory=False\n",
    ")\n",
    "\n",
    "df = pd.merge(datos, resultados, how='left', left_on='id', right_on='id')\n",
    "df"
   ]
  },
  {
   "cell_type": "markdown",
   "metadata": {
    "id": "3bvKxpVpIdhN"
   },
   "source": [
    "Primero descartamos las filas que contienen NaNs en 'llovieron_hamburguesas_al_dia_siguiente', luego separamos los datos en training y testing."
   ]
  },
  {
   "cell_type": "code",
   "execution_count": 3,
   "metadata": {
    "colab": {
     "base_uri": "https://localhost:8080/",
     "height": 634
    },
    "id": "Hlm81908yrCT",
    "outputId": "b5a76f67-fada-424c-ea1b-b17fdd389ce7"
   },
   "outputs": [
    {
     "name": "stdout",
     "output_type": "stream",
     "text": [
      "Shape of new dataframes - (71649, 23) , (71649, 1)\n"
     ]
    },
    {
     "data": {
      "text/html": [
       "<div>\n",
       "<style scoped>\n",
       "    .dataframe tbody tr th:only-of-type {\n",
       "        vertical-align: middle;\n",
       "    }\n",
       "\n",
       "    .dataframe tbody tr th {\n",
       "        vertical-align: top;\n",
       "    }\n",
       "\n",
       "    .dataframe thead th {\n",
       "        text-align: right;\n",
       "    }\n",
       "</style>\n",
       "<table border=\"1\" class=\"dataframe\">\n",
       "  <thead>\n",
       "    <tr style=\"text-align: right;\">\n",
       "      <th></th>\n",
       "      <th>barrio</th>\n",
       "      <th>dia</th>\n",
       "      <th>direccion_viento_tarde</th>\n",
       "      <th>direccion_viento_temprano</th>\n",
       "      <th>horas_de_sol</th>\n",
       "      <th>humedad_tarde</th>\n",
       "      <th>humedad_temprano</th>\n",
       "      <th>id</th>\n",
       "      <th>llovieron_hamburguesas_hoy</th>\n",
       "      <th>mm_evaporados_agua</th>\n",
       "      <th>...</th>\n",
       "      <th>presion_atmosferica_tarde</th>\n",
       "      <th>presion_atmosferica_temprano</th>\n",
       "      <th>rafaga_viento_max_direccion</th>\n",
       "      <th>rafaga_viento_max_velocidad</th>\n",
       "      <th>temp_max</th>\n",
       "      <th>temp_min</th>\n",
       "      <th>temperatura_tarde</th>\n",
       "      <th>temperatura_temprano</th>\n",
       "      <th>velocidad_viendo_tarde</th>\n",
       "      <th>velocidad_viendo_temprano</th>\n",
       "    </tr>\n",
       "  </thead>\n",
       "  <tbody>\n",
       "    <tr>\n",
       "      <th>98355</th>\n",
       "      <td>La Paternal</td>\n",
       "      <td>2014-06-12</td>\n",
       "      <td>Nornoreste</td>\n",
       "      <td>Oestenoroeste</td>\n",
       "      <td>NaN</td>\n",
       "      <td>59.0</td>\n",
       "      <td>69.0</td>\n",
       "      <td>44477</td>\n",
       "      <td>no</td>\n",
       "      <td>NaN</td>\n",
       "      <td>...</td>\n",
       "      <td>1018.7</td>\n",
       "      <td>1021.3</td>\n",
       "      <td>Noroeste</td>\n",
       "      <td>28.0</td>\n",
       "      <td>19.3</td>\n",
       "      <td>12.0</td>\n",
       "      <td>18.8</td>\n",
       "      <td>14.8</td>\n",
       "      <td>15.0</td>\n",
       "      <td>9.0</td>\n",
       "    </tr>\n",
       "    <tr>\n",
       "      <th>25931</th>\n",
       "      <td>Villa Soldati</td>\n",
       "      <td>2013-11-11</td>\n",
       "      <td>Oestenoroeste</td>\n",
       "      <td>Oestesuroeste</td>\n",
       "      <td>5.8</td>\n",
       "      <td>62.0</td>\n",
       "      <td>67.0</td>\n",
       "      <td>140981</td>\n",
       "      <td>no</td>\n",
       "      <td>6.4</td>\n",
       "      <td>...</td>\n",
       "      <td>1005.0</td>\n",
       "      <td>1008.5</td>\n",
       "      <td>Este</td>\n",
       "      <td>72.0</td>\n",
       "      <td>33.8</td>\n",
       "      <td>26.0</td>\n",
       "      <td>32.5</td>\n",
       "      <td>30.0</td>\n",
       "      <td>28.0</td>\n",
       "      <td>13.0</td>\n",
       "    </tr>\n",
       "    <tr>\n",
       "      <th>19830</th>\n",
       "      <td>Saavedra</td>\n",
       "      <td>2012-11-19</td>\n",
       "      <td>Norte</td>\n",
       "      <td>Sursureste</td>\n",
       "      <td>7.2</td>\n",
       "      <td>71.0</td>\n",
       "      <td>75.0</td>\n",
       "      <td>88619</td>\n",
       "      <td>no</td>\n",
       "      <td>5.2</td>\n",
       "      <td>...</td>\n",
       "      <td>1008.8</td>\n",
       "      <td>1011.2</td>\n",
       "      <td>Estenoreste</td>\n",
       "      <td>35.0</td>\n",
       "      <td>33.1</td>\n",
       "      <td>23.7</td>\n",
       "      <td>28.1</td>\n",
       "      <td>27.1</td>\n",
       "      <td>15.0</td>\n",
       "      <td>6.0</td>\n",
       "    </tr>\n",
       "    <tr>\n",
       "      <th>100102</th>\n",
       "      <td>San Cristóbal</td>\n",
       "      <td>2009-02-05</td>\n",
       "      <td>Sureste</td>\n",
       "      <td>Sursureste</td>\n",
       "      <td>NaN</td>\n",
       "      <td>62.0</td>\n",
       "      <td>63.0</td>\n",
       "      <td>90306</td>\n",
       "      <td>no</td>\n",
       "      <td>NaN</td>\n",
       "      <td>...</td>\n",
       "      <td>1007.8</td>\n",
       "      <td>1009.0</td>\n",
       "      <td>Sureste</td>\n",
       "      <td>39.0</td>\n",
       "      <td>30.4</td>\n",
       "      <td>23.3</td>\n",
       "      <td>28.8</td>\n",
       "      <td>28.6</td>\n",
       "      <td>31.0</td>\n",
       "      <td>26.0</td>\n",
       "    </tr>\n",
       "    <tr>\n",
       "      <th>77366</th>\n",
       "      <td>Núñez</td>\n",
       "      <td>2016-06-26</td>\n",
       "      <td>Noroeste</td>\n",
       "      <td>Noroeste</td>\n",
       "      <td>NaN</td>\n",
       "      <td>61.0</td>\n",
       "      <td>84.0</td>\n",
       "      <td>63826</td>\n",
       "      <td>no</td>\n",
       "      <td>NaN</td>\n",
       "      <td>...</td>\n",
       "      <td>1016.6</td>\n",
       "      <td>1020.8</td>\n",
       "      <td>Oeste</td>\n",
       "      <td>30.0</td>\n",
       "      <td>12.8</td>\n",
       "      <td>3.3</td>\n",
       "      <td>12.3</td>\n",
       "      <td>6.3</td>\n",
       "      <td>11.0</td>\n",
       "      <td>13.0</td>\n",
       "    </tr>\n",
       "    <tr>\n",
       "      <th>...</th>\n",
       "      <td>...</td>\n",
       "      <td>...</td>\n",
       "      <td>...</td>\n",
       "      <td>...</td>\n",
       "      <td>...</td>\n",
       "      <td>...</td>\n",
       "      <td>...</td>\n",
       "      <td>...</td>\n",
       "      <td>...</td>\n",
       "      <td>...</td>\n",
       "      <td>...</td>\n",
       "      <td>...</td>\n",
       "      <td>...</td>\n",
       "      <td>...</td>\n",
       "      <td>...</td>\n",
       "      <td>...</td>\n",
       "      <td>...</td>\n",
       "      <td>...</td>\n",
       "      <td>...</td>\n",
       "      <td>...</td>\n",
       "      <td>...</td>\n",
       "    </tr>\n",
       "    <tr>\n",
       "      <th>26036</th>\n",
       "      <td>Almagro</td>\n",
       "      <td>2014-01-14</td>\n",
       "      <td>Nornoreste</td>\n",
       "      <td>Norte</td>\n",
       "      <td>NaN</td>\n",
       "      <td>33.0</td>\n",
       "      <td>62.0</td>\n",
       "      <td>4790</td>\n",
       "      <td>no</td>\n",
       "      <td>NaN</td>\n",
       "      <td>...</td>\n",
       "      <td>1018.1</td>\n",
       "      <td>1022.1</td>\n",
       "      <td>Estenoreste</td>\n",
       "      <td>35.0</td>\n",
       "      <td>33.9</td>\n",
       "      <td>14.7</td>\n",
       "      <td>32.2</td>\n",
       "      <td>22.4</td>\n",
       "      <td>13.0</td>\n",
       "      <td>13.0</td>\n",
       "    </tr>\n",
       "    <tr>\n",
       "      <th>20182</th>\n",
       "      <td>Agronomía</td>\n",
       "      <td>2012-08-21</td>\n",
       "      <td>Noreste</td>\n",
       "      <td>Sureste</td>\n",
       "      <td>NaN</td>\n",
       "      <td>45.0</td>\n",
       "      <td>84.0</td>\n",
       "      <td>1329</td>\n",
       "      <td>no</td>\n",
       "      <td>NaN</td>\n",
       "      <td>...</td>\n",
       "      <td>1015.3</td>\n",
       "      <td>1020.1</td>\n",
       "      <td>Norte</td>\n",
       "      <td>33.0</td>\n",
       "      <td>16.4</td>\n",
       "      <td>2.1</td>\n",
       "      <td>15.6</td>\n",
       "      <td>7.9</td>\n",
       "      <td>19.0</td>\n",
       "      <td>7.0</td>\n",
       "    </tr>\n",
       "    <tr>\n",
       "      <th>2036</th>\n",
       "      <td>Parque Patricios</td>\n",
       "      <td>2012-06-05</td>\n",
       "      <td>Sureste</td>\n",
       "      <td>Sursureste</td>\n",
       "      <td>0.9</td>\n",
       "      <td>66.0</td>\n",
       "      <td>63.0</td>\n",
       "      <td>76201</td>\n",
       "      <td>si</td>\n",
       "      <td>0.6</td>\n",
       "      <td>...</td>\n",
       "      <td>1020.6</td>\n",
       "      <td>1019.7</td>\n",
       "      <td>Sureste</td>\n",
       "      <td>59.0</td>\n",
       "      <td>12.6</td>\n",
       "      <td>10.7</td>\n",
       "      <td>12.0</td>\n",
       "      <td>11.6</td>\n",
       "      <td>31.0</td>\n",
       "      <td>30.0</td>\n",
       "    </tr>\n",
       "    <tr>\n",
       "      <th>12108</th>\n",
       "      <td>La Paternal</td>\n",
       "      <td>2014-07-30</td>\n",
       "      <td>Oestenoroeste</td>\n",
       "      <td>Noroeste</td>\n",
       "      <td>NaN</td>\n",
       "      <td>34.0</td>\n",
       "      <td>47.0</td>\n",
       "      <td>44525</td>\n",
       "      <td>NaN</td>\n",
       "      <td>NaN</td>\n",
       "      <td>...</td>\n",
       "      <td>1014.2</td>\n",
       "      <td>1017.1</td>\n",
       "      <td>Oestenoroeste</td>\n",
       "      <td>96.0</td>\n",
       "      <td>22.4</td>\n",
       "      <td>12.7</td>\n",
       "      <td>22.2</td>\n",
       "      <td>19.1</td>\n",
       "      <td>19.0</td>\n",
       "      <td>11.0</td>\n",
       "    </tr>\n",
       "    <tr>\n",
       "      <th>71346</th>\n",
       "      <td>Parque Chas</td>\n",
       "      <td>2013-10-04</td>\n",
       "      <td>Oestenoroeste</td>\n",
       "      <td>Norte</td>\n",
       "      <td>NaN</td>\n",
       "      <td>36.0</td>\n",
       "      <td>74.0</td>\n",
       "      <td>73619</td>\n",
       "      <td>no</td>\n",
       "      <td>NaN</td>\n",
       "      <td>...</td>\n",
       "      <td>1017.7</td>\n",
       "      <td>1023.3</td>\n",
       "      <td>Noroeste</td>\n",
       "      <td>35.0</td>\n",
       "      <td>21.7</td>\n",
       "      <td>1.8</td>\n",
       "      <td>21.0</td>\n",
       "      <td>10.9</td>\n",
       "      <td>20.0</td>\n",
       "      <td>11.0</td>\n",
       "    </tr>\n",
       "  </tbody>\n",
       "</table>\n",
       "<p>71649 rows × 23 columns</p>\n",
       "</div>"
      ],
      "text/plain": [
       "                  barrio         dia direccion_viento_tarde  \\\n",
       "98355        La Paternal  2014-06-12             Nornoreste   \n",
       "25931      Villa Soldati  2013-11-11          Oestenoroeste   \n",
       "19830           Saavedra  2012-11-19                  Norte   \n",
       "100102     San Cristóbal  2009-02-05                Sureste   \n",
       "77366              Núñez  2016-06-26               Noroeste   \n",
       "...                  ...         ...                    ...   \n",
       "26036            Almagro  2014-01-14             Nornoreste   \n",
       "20182          Agronomía  2012-08-21                Noreste   \n",
       "2036    Parque Patricios  2012-06-05                Sureste   \n",
       "12108        La Paternal  2014-07-30          Oestenoroeste   \n",
       "71346        Parque Chas  2013-10-04          Oestenoroeste   \n",
       "\n",
       "       direccion_viento_temprano  horas_de_sol  humedad_tarde  \\\n",
       "98355              Oestenoroeste           NaN           59.0   \n",
       "25931              Oestesuroeste           5.8           62.0   \n",
       "19830                 Sursureste           7.2           71.0   \n",
       "100102                Sursureste           NaN           62.0   \n",
       "77366                   Noroeste           NaN           61.0   \n",
       "...                          ...           ...            ...   \n",
       "26036                      Norte           NaN           33.0   \n",
       "20182                    Sureste           NaN           45.0   \n",
       "2036                  Sursureste           0.9           66.0   \n",
       "12108                   Noroeste           NaN           34.0   \n",
       "71346                      Norte           NaN           36.0   \n",
       "\n",
       "        humedad_temprano      id llovieron_hamburguesas_hoy  \\\n",
       "98355               69.0   44477                         no   \n",
       "25931               67.0  140981                         no   \n",
       "19830               75.0   88619                         no   \n",
       "100102              63.0   90306                         no   \n",
       "77366               84.0   63826                         no   \n",
       "...                  ...     ...                        ...   \n",
       "26036               62.0    4790                         no   \n",
       "20182               84.0    1329                         no   \n",
       "2036                63.0   76201                         si   \n",
       "12108               47.0   44525                        NaN   \n",
       "71346               74.0   73619                         no   \n",
       "\n",
       "        mm_evaporados_agua  ...  presion_atmosferica_tarde  \\\n",
       "98355                  NaN  ...                     1018.7   \n",
       "25931                  6.4  ...                     1005.0   \n",
       "19830                  5.2  ...                     1008.8   \n",
       "100102                 NaN  ...                     1007.8   \n",
       "77366                  NaN  ...                     1016.6   \n",
       "...                    ...  ...                        ...   \n",
       "26036                  NaN  ...                     1018.1   \n",
       "20182                  NaN  ...                     1015.3   \n",
       "2036                   0.6  ...                     1020.6   \n",
       "12108                  NaN  ...                     1014.2   \n",
       "71346                  NaN  ...                     1017.7   \n",
       "\n",
       "        presion_atmosferica_temprano  rafaga_viento_max_direccion  \\\n",
       "98355                         1021.3                     Noroeste   \n",
       "25931                         1008.5                         Este   \n",
       "19830                         1011.2                  Estenoreste   \n",
       "100102                        1009.0                      Sureste   \n",
       "77366                         1020.8                        Oeste   \n",
       "...                              ...                          ...   \n",
       "26036                         1022.1                  Estenoreste   \n",
       "20182                         1020.1                        Norte   \n",
       "2036                          1019.7                      Sureste   \n",
       "12108                         1017.1                Oestenoroeste   \n",
       "71346                         1023.3                     Noroeste   \n",
       "\n",
       "       rafaga_viento_max_velocidad  temp_max temp_min  temperatura_tarde  \\\n",
       "98355                         28.0      19.3     12.0               18.8   \n",
       "25931                         72.0      33.8     26.0               32.5   \n",
       "19830                         35.0      33.1     23.7               28.1   \n",
       "100102                        39.0      30.4     23.3               28.8   \n",
       "77366                         30.0      12.8      3.3               12.3   \n",
       "...                            ...       ...      ...                ...   \n",
       "26036                         35.0      33.9     14.7               32.2   \n",
       "20182                         33.0      16.4      2.1               15.6   \n",
       "2036                          59.0      12.6     10.7               12.0   \n",
       "12108                         96.0      22.4     12.7               22.2   \n",
       "71346                         35.0      21.7      1.8               21.0   \n",
       "\n",
       "        temperatura_temprano  velocidad_viendo_tarde  \\\n",
       "98355                   14.8                    15.0   \n",
       "25931                   30.0                    28.0   \n",
       "19830                   27.1                    15.0   \n",
       "100102                  28.6                    31.0   \n",
       "77366                    6.3                    11.0   \n",
       "...                      ...                     ...   \n",
       "26036                   22.4                    13.0   \n",
       "20182                    7.9                    19.0   \n",
       "2036                    11.6                    31.0   \n",
       "12108                   19.1                    19.0   \n",
       "71346                   10.9                    20.0   \n",
       "\n",
       "        velocidad_viendo_temprano  \n",
       "98355                         9.0  \n",
       "25931                        13.0  \n",
       "19830                         6.0  \n",
       "100102                       26.0  \n",
       "77366                        13.0  \n",
       "...                           ...  \n",
       "26036                        13.0  \n",
       "20182                         7.0  \n",
       "2036                         30.0  \n",
       "12108                        11.0  \n",
       "71346                        11.0  \n",
       "\n",
       "[71649 rows x 23 columns]"
      ]
     },
     "execution_count": 3,
     "metadata": {},
     "output_type": "execute_result"
    }
   ],
   "source": [
    "from sklearn.model_selection import train_test_split\n",
    "\n",
    "df = df.dropna(subset=['llovieron_hamburguesas_al_dia_siguiente'])\n",
    "datos_1 = df.iloc[:, :23]\n",
    "resultados_1 = df.iloc[:,23:]\n",
    "\n",
    "X_training_val_dev, X_test_holdout, y_training_val_dev, y_test_holdout = train_test_split(\n",
    "    datos_1, resultados_1, random_state=117, test_size=0.1, stratify=resultados_1\n",
    ")\n",
    "X_training, X_val_dev, y_training, y_val_dev = train_test_split(\n",
    "    X_training_val_dev, y_training_val_dev, random_state=117, test_size=0.3, stratify=y_training_val_dev\n",
    ")\n",
    "\n",
    "\n",
    "print(\"Shape of new dataframes - {} , {}\".format(X_training.shape, y_training.shape))\n",
    "datos_training = X_training.copy()\n",
    "datos_test_holdout = X_test_holdout.copy()\n",
    "datos_training"
   ]
  },
  {
   "cell_type": "markdown",
   "metadata": {
    "id": "EHO9syCWIyDe"
   },
   "source": [
    "Definimos las funciones que vamos a utilizar para preprocesar."
   ]
  },
  {
   "cell_type": "markdown",
   "metadata": {
    "id": "bwB_9wzwI9ke"
   },
   "source": [
    "Realizamos un entrenamiento inicial del modelo con algunos parametros seleccionados al azar para ver como funciona."
   ]
  },
  {
   "cell_type": "code",
   "execution_count": 4,
   "metadata": {
    "colab": {
     "base_uri": "https://localhost:8080/",
     "height": 443
    },
    "id": "oEqT_rjry0Jj",
    "outputId": "1f1bc08d-60bb-4ecd-cb82-2f1ab79adafe"
   },
   "outputs": [
    {
     "data": {
      "text/html": [
       "<div>\n",
       "<style scoped>\n",
       "    .dataframe tbody tr th:only-of-type {\n",
       "        vertical-align: middle;\n",
       "    }\n",
       "\n",
       "    .dataframe tbody tr th {\n",
       "        vertical-align: top;\n",
       "    }\n",
       "\n",
       "    .dataframe thead th {\n",
       "        text-align: right;\n",
       "    }\n",
       "</style>\n",
       "<table border=\"1\" class=\"dataframe\">\n",
       "  <thead>\n",
       "    <tr style=\"text-align: right;\">\n",
       "      <th></th>\n",
       "      <th>0</th>\n",
       "      <th>1</th>\n",
       "      <th>2</th>\n",
       "      <th>3</th>\n",
       "      <th>4</th>\n",
       "      <th>5</th>\n",
       "      <th>6</th>\n",
       "      <th>7</th>\n",
       "      <th>8</th>\n",
       "      <th>9</th>\n",
       "      <th>...</th>\n",
       "      <th>22</th>\n",
       "      <th>23</th>\n",
       "      <th>24</th>\n",
       "      <th>25</th>\n",
       "      <th>26</th>\n",
       "      <th>27</th>\n",
       "      <th>28</th>\n",
       "      <th>29</th>\n",
       "      <th>30</th>\n",
       "      <th>31</th>\n",
       "    </tr>\n",
       "  </thead>\n",
       "  <tbody>\n",
       "    <tr>\n",
       "      <th>0</th>\n",
       "      <td>12.0</td>\n",
       "      <td>7.644989</td>\n",
       "      <td>59.0</td>\n",
       "      <td>69.0</td>\n",
       "      <td>5.45772</td>\n",
       "      <td>0.000000</td>\n",
       "      <td>4.500233</td>\n",
       "      <td>4.437636</td>\n",
       "      <td>1018.700012</td>\n",
       "      <td>1021.3</td>\n",
       "      <td>...</td>\n",
       "      <td>6.0</td>\n",
       "      <td>-1.0</td>\n",
       "      <td>-5.0</td>\n",
       "      <td>8.0</td>\n",
       "      <td>0.0</td>\n",
       "      <td>-2.0</td>\n",
       "      <td>5.0</td>\n",
       "      <td>-1.0</td>\n",
       "      <td>2014.0</td>\n",
       "      <td>6.0</td>\n",
       "    </tr>\n",
       "    <tr>\n",
       "      <th>1</th>\n",
       "      <td>11.0</td>\n",
       "      <td>5.800000</td>\n",
       "      <td>62.0</td>\n",
       "      <td>67.0</td>\n",
       "      <td>6.40000</td>\n",
       "      <td>0.000000</td>\n",
       "      <td>3.000000</td>\n",
       "      <td>6.000000</td>\n",
       "      <td>1005.000000</td>\n",
       "      <td>1008.5</td>\n",
       "      <td>...</td>\n",
       "      <td>8.0</td>\n",
       "      <td>0.0</td>\n",
       "      <td>-5.0</td>\n",
       "      <td>8.0</td>\n",
       "      <td>0.0</td>\n",
       "      <td>-1.0</td>\n",
       "      <td>1.0</td>\n",
       "      <td>0.0</td>\n",
       "      <td>2013.0</td>\n",
       "      <td>11.0</td>\n",
       "    </tr>\n",
       "    <tr>\n",
       "      <th>2</th>\n",
       "      <td>19.0</td>\n",
       "      <td>7.200000</td>\n",
       "      <td>71.0</td>\n",
       "      <td>75.0</td>\n",
       "      <td>5.20000</td>\n",
       "      <td>1.000000</td>\n",
       "      <td>5.000000</td>\n",
       "      <td>5.000000</td>\n",
       "      <td>1008.799988</td>\n",
       "      <td>1011.2</td>\n",
       "      <td>...</td>\n",
       "      <td>3.0</td>\n",
       "      <td>-1.0</td>\n",
       "      <td>-4.0</td>\n",
       "      <td>6.0</td>\n",
       "      <td>0.0</td>\n",
       "      <td>-4.0</td>\n",
       "      <td>5.0</td>\n",
       "      <td>0.0</td>\n",
       "      <td>2012.0</td>\n",
       "      <td>11.0</td>\n",
       "    </tr>\n",
       "    <tr>\n",
       "      <th>3</th>\n",
       "      <td>5.0</td>\n",
       "      <td>7.644989</td>\n",
       "      <td>62.0</td>\n",
       "      <td>63.0</td>\n",
       "      <td>5.45772</td>\n",
       "      <td>0.000000</td>\n",
       "      <td>4.500233</td>\n",
       "      <td>4.437636</td>\n",
       "      <td>1007.799988</td>\n",
       "      <td>1009.0</td>\n",
       "      <td>...</td>\n",
       "      <td>4.0</td>\n",
       "      <td>0.0</td>\n",
       "      <td>-4.0</td>\n",
       "      <td>6.0</td>\n",
       "      <td>0.0</td>\n",
       "      <td>-3.0</td>\n",
       "      <td>4.0</td>\n",
       "      <td>0.0</td>\n",
       "      <td>2009.0</td>\n",
       "      <td>2.0</td>\n",
       "    </tr>\n",
       "    <tr>\n",
       "      <th>4</th>\n",
       "      <td>26.0</td>\n",
       "      <td>7.644989</td>\n",
       "      <td>61.0</td>\n",
       "      <td>84.0</td>\n",
       "      <td>5.45772</td>\n",
       "      <td>0.000000</td>\n",
       "      <td>4.500233</td>\n",
       "      <td>4.437636</td>\n",
       "      <td>1016.599976</td>\n",
       "      <td>1020.8</td>\n",
       "      <td>...</td>\n",
       "      <td>5.0</td>\n",
       "      <td>-1.0</td>\n",
       "      <td>-2.0</td>\n",
       "      <td>5.0</td>\n",
       "      <td>-1.0</td>\n",
       "      <td>-2.0</td>\n",
       "      <td>3.0</td>\n",
       "      <td>0.0</td>\n",
       "      <td>2016.0</td>\n",
       "      <td>6.0</td>\n",
       "    </tr>\n",
       "    <tr>\n",
       "      <th>...</th>\n",
       "      <td>...</td>\n",
       "      <td>...</td>\n",
       "      <td>...</td>\n",
       "      <td>...</td>\n",
       "      <td>...</td>\n",
       "      <td>...</td>\n",
       "      <td>...</td>\n",
       "      <td>...</td>\n",
       "      <td>...</td>\n",
       "      <td>...</td>\n",
       "      <td>...</td>\n",
       "      <td>...</td>\n",
       "      <td>...</td>\n",
       "      <td>...</td>\n",
       "      <td>...</td>\n",
       "      <td>...</td>\n",
       "      <td>...</td>\n",
       "      <td>...</td>\n",
       "      <td>...</td>\n",
       "      <td>...</td>\n",
       "      <td>...</td>\n",
       "    </tr>\n",
       "    <tr>\n",
       "      <th>71644</th>\n",
       "      <td>14.0</td>\n",
       "      <td>7.644989</td>\n",
       "      <td>33.0</td>\n",
       "      <td>62.0</td>\n",
       "      <td>5.45772</td>\n",
       "      <td>0.000000</td>\n",
       "      <td>4.500233</td>\n",
       "      <td>4.437636</td>\n",
       "      <td>1018.099976</td>\n",
       "      <td>1022.1</td>\n",
       "      <td>...</td>\n",
       "      <td>6.0</td>\n",
       "      <td>-1.0</td>\n",
       "      <td>-1.0</td>\n",
       "      <td>3.0</td>\n",
       "      <td>-1.0</td>\n",
       "      <td>-4.0</td>\n",
       "      <td>5.0</td>\n",
       "      <td>0.0</td>\n",
       "      <td>2014.0</td>\n",
       "      <td>1.0</td>\n",
       "    </tr>\n",
       "    <tr>\n",
       "      <th>71645</th>\n",
       "      <td>21.0</td>\n",
       "      <td>7.644989</td>\n",
       "      <td>45.0</td>\n",
       "      <td>84.0</td>\n",
       "      <td>5.45772</td>\n",
       "      <td>0.000000</td>\n",
       "      <td>1.000000</td>\n",
       "      <td>2.000000</td>\n",
       "      <td>1015.299988</td>\n",
       "      <td>1020.1</td>\n",
       "      <td>...</td>\n",
       "      <td>4.0</td>\n",
       "      <td>-1.0</td>\n",
       "      <td>-3.0</td>\n",
       "      <td>4.0</td>\n",
       "      <td>0.0</td>\n",
       "      <td>-1.0</td>\n",
       "      <td>3.0</td>\n",
       "      <td>-1.0</td>\n",
       "      <td>2012.0</td>\n",
       "      <td>8.0</td>\n",
       "    </tr>\n",
       "    <tr>\n",
       "      <th>71646</th>\n",
       "      <td>5.0</td>\n",
       "      <td>0.900000</td>\n",
       "      <td>66.0</td>\n",
       "      <td>63.0</td>\n",
       "      <td>0.60000</td>\n",
       "      <td>11.800000</td>\n",
       "      <td>7.000000</td>\n",
       "      <td>8.000000</td>\n",
       "      <td>1020.599976</td>\n",
       "      <td>1019.7</td>\n",
       "      <td>...</td>\n",
       "      <td>4.0</td>\n",
       "      <td>0.0</td>\n",
       "      <td>-4.0</td>\n",
       "      <td>6.0</td>\n",
       "      <td>0.0</td>\n",
       "      <td>-3.0</td>\n",
       "      <td>4.0</td>\n",
       "      <td>0.0</td>\n",
       "      <td>2012.0</td>\n",
       "      <td>6.0</td>\n",
       "    </tr>\n",
       "    <tr>\n",
       "      <th>71647</th>\n",
       "      <td>30.0</td>\n",
       "      <td>7.644989</td>\n",
       "      <td>34.0</td>\n",
       "      <td>47.0</td>\n",
       "      <td>5.45772</td>\n",
       "      <td>2.367993</td>\n",
       "      <td>1.000000</td>\n",
       "      <td>4.437636</td>\n",
       "      <td>1014.200012</td>\n",
       "      <td>1017.1</td>\n",
       "      <td>...</td>\n",
       "      <td>8.0</td>\n",
       "      <td>0.0</td>\n",
       "      <td>-2.0</td>\n",
       "      <td>5.0</td>\n",
       "      <td>-1.0</td>\n",
       "      <td>-5.0</td>\n",
       "      <td>8.0</td>\n",
       "      <td>0.0</td>\n",
       "      <td>2014.0</td>\n",
       "      <td>7.0</td>\n",
       "    </tr>\n",
       "    <tr>\n",
       "      <th>71648</th>\n",
       "      <td>4.0</td>\n",
       "      <td>7.644989</td>\n",
       "      <td>36.0</td>\n",
       "      <td>74.0</td>\n",
       "      <td>5.45772</td>\n",
       "      <td>0.000000</td>\n",
       "      <td>4.500233</td>\n",
       "      <td>4.437636</td>\n",
       "      <td>1017.700012</td>\n",
       "      <td>1023.3</td>\n",
       "      <td>...</td>\n",
       "      <td>8.0</td>\n",
       "      <td>0.0</td>\n",
       "      <td>-1.0</td>\n",
       "      <td>3.0</td>\n",
       "      <td>-1.0</td>\n",
       "      <td>-2.0</td>\n",
       "      <td>5.0</td>\n",
       "      <td>-1.0</td>\n",
       "      <td>2013.0</td>\n",
       "      <td>10.0</td>\n",
       "    </tr>\n",
       "  </tbody>\n",
       "</table>\n",
       "<p>71649 rows × 32 columns</p>\n",
       "</div>"
      ],
      "text/plain": [
       "         0         1     2     3        4          5         6         7   \\\n",
       "0      12.0  7.644989  59.0  69.0  5.45772   0.000000  4.500233  4.437636   \n",
       "1      11.0  5.800000  62.0  67.0  6.40000   0.000000  3.000000  6.000000   \n",
       "2      19.0  7.200000  71.0  75.0  5.20000   1.000000  5.000000  5.000000   \n",
       "3       5.0  7.644989  62.0  63.0  5.45772   0.000000  4.500233  4.437636   \n",
       "4      26.0  7.644989  61.0  84.0  5.45772   0.000000  4.500233  4.437636   \n",
       "...     ...       ...   ...   ...      ...        ...       ...       ...   \n",
       "71644  14.0  7.644989  33.0  62.0  5.45772   0.000000  4.500233  4.437636   \n",
       "71645  21.0  7.644989  45.0  84.0  5.45772   0.000000  1.000000  2.000000   \n",
       "71646   5.0  0.900000  66.0  63.0  0.60000  11.800000  7.000000  8.000000   \n",
       "71647  30.0  7.644989  34.0  47.0  5.45772   2.367993  1.000000  4.437636   \n",
       "71648   4.0  7.644989  36.0  74.0  5.45772   0.000000  4.500233  4.437636   \n",
       "\n",
       "                8       9   ...   22   23   24   25   26   27   28   29  \\\n",
       "0      1018.700012  1021.3  ...  6.0 -1.0 -5.0  8.0  0.0 -2.0  5.0 -1.0   \n",
       "1      1005.000000  1008.5  ...  8.0  0.0 -5.0  8.0  0.0 -1.0  1.0  0.0   \n",
       "2      1008.799988  1011.2  ...  3.0 -1.0 -4.0  6.0  0.0 -4.0  5.0  0.0   \n",
       "3      1007.799988  1009.0  ...  4.0  0.0 -4.0  6.0  0.0 -3.0  4.0  0.0   \n",
       "4      1016.599976  1020.8  ...  5.0 -1.0 -2.0  5.0 -1.0 -2.0  3.0  0.0   \n",
       "...            ...     ...  ...  ...  ...  ...  ...  ...  ...  ...  ...   \n",
       "71644  1018.099976  1022.1  ...  6.0 -1.0 -1.0  3.0 -1.0 -4.0  5.0  0.0   \n",
       "71645  1015.299988  1020.1  ...  4.0 -1.0 -3.0  4.0  0.0 -1.0  3.0 -1.0   \n",
       "71646  1020.599976  1019.7  ...  4.0  0.0 -4.0  6.0  0.0 -3.0  4.0  0.0   \n",
       "71647  1014.200012  1017.1  ...  8.0  0.0 -2.0  5.0 -1.0 -5.0  8.0  0.0   \n",
       "71648  1017.700012  1023.3  ...  8.0  0.0 -1.0  3.0 -1.0 -2.0  5.0 -1.0   \n",
       "\n",
       "           30    31  \n",
       "0      2014.0   6.0  \n",
       "1      2013.0  11.0  \n",
       "2      2012.0  11.0  \n",
       "3      2009.0   2.0  \n",
       "4      2016.0   6.0  \n",
       "...       ...   ...  \n",
       "71644  2014.0   1.0  \n",
       "71645  2012.0   8.0  \n",
       "71646  2012.0   6.0  \n",
       "71647  2014.0   7.0  \n",
       "71648  2013.0  10.0  \n",
       "\n",
       "[71649 rows x 32 columns]"
      ]
     },
     "execution_count": 4,
     "metadata": {},
     "output_type": "execute_result"
    }
   ],
   "source": [
    "from preprocessing import preprocessing_gb\n",
    "from sklearn.impute import SimpleImputer\n",
    "\n",
    "datos_training_boost, datos_val = preprocessing_gb(X_training.copy(), X_val_dev.copy())\n",
    "\n",
    "y_training = y_training.reset_index()\n",
    "y_training = y_training.drop(columns=['index'])\n",
    "resultados_training_boost = pd.get_dummies(y_training, drop_first=True, columns=['llovieron_hamburguesas_al_dia_siguiente'])\n",
    "\n",
    "pd.DataFrame(datos_training_boost)"
   ]
  },
  {
   "cell_type": "code",
   "execution_count": 5,
   "metadata": {
    "id": "B0HTNO8zzWtz"
   },
   "outputs": [],
   "source": [
    "model_boosting = GradientBoostingClassifier(max_depth=5)"
   ]
  },
  {
   "cell_type": "code",
   "execution_count": 6,
   "metadata": {
    "colab": {
     "base_uri": "https://localhost:8080/"
    },
    "id": "UAO41WQDzgAL",
    "outputId": "22f5a65b-eff0-45d0-810e-aab1d69ec04d"
   },
   "outputs": [
    {
     "data": {
      "text/plain": [
       "GradientBoostingClassifier(max_depth=5)"
      ]
     },
     "execution_count": 6,
     "metadata": {},
     "output_type": "execute_result"
    }
   ],
   "source": [
    "model_boosting.fit(datos_training_boost, resultados_training_boost.values.ravel())"
   ]
  },
  {
   "cell_type": "code",
   "execution_count": 7,
   "metadata": {},
   "outputs": [],
   "source": [
    "resultados_val = y_val_dev.reset_index()\n",
    "resultados_val = resultados_val.drop(columns=['index'])\n",
    "resultados_val = pd.get_dummies(resultados_val, drop_first=True, columns=['llovieron_hamburguesas_al_dia_siguiente'])"
   ]
  },
  {
   "cell_type": "code",
   "execution_count": 8,
   "metadata": {
    "id": "j8l70n7vzmeD"
   },
   "outputs": [],
   "source": [
    "y_pred = model_boosting.predict(datos_val)"
   ]
  },
  {
   "cell_type": "code",
   "execution_count": 9,
   "metadata": {
    "colab": {
     "base_uri": "https://localhost:8080/"
    },
    "id": "W49c9u5s0cSF",
    "outputId": "e0d20569-1fdc-4099-9051-a11ab1f2f9ee"
   },
   "outputs": [
    {
     "data": {
      "text/plain": [
       "0.850750643175823"
      ]
     },
     "execution_count": 9,
     "metadata": {},
     "output_type": "execute_result"
    }
   ],
   "source": [
    "accuracy_score(y_pred, resultados_val)"
   ]
  },
  {
   "cell_type": "code",
   "execution_count": 10,
   "metadata": {
    "id": "2cqwXyAk0jS5"
   },
   "outputs": [],
   "source": [
    "from sklearn.metrics import confusion_matrix\n",
    "\n",
    "def plot_confusion_matrix(y_true, y_pred):\n",
    "    cm = confusion_matrix(y_true, y_pred)\n",
    "    df_cm = pd.DataFrame(cm)\n",
    "\n",
    "    plt.figure(dpi=100)\n",
    "    plt.title(\"Matriz de confusion\")\n",
    "    sns.heatmap(df_cm, annot=True, annot_kws={\"size\": 16}, fmt='g', square=True)\n",
    "    plt.ylabel(\"True label\")\n",
    "    plt.xlabel(\"Predicted label\")\n",
    "    plt.show()"
   ]
  },
  {
   "cell_type": "code",
   "execution_count": 11,
   "metadata": {
    "colab": {
     "base_uri": "https://localhost:8080/",
     "height": 404
    },
    "id": "jRkmNr-T0k6q",
    "outputId": "9c4ddf3c-216c-4756-ee29-0e9893f4ba96"
   },
   "outputs": [
    {
     "data": {
      "image/png": "[encoded data removed]",
      "text/plain": [
       "<Figure size 600x400 with 2 Axes>"
      ]
     },
     "metadata": {
      "needs_background": "light"
     },
     "output_type": "display_data"
    }
   ],
   "source": [
    "plot_confusion_matrix(resultados_val.to_numpy(), y_pred)"
   ]
  },
  {
   "cell_type": "code",
   "execution_count": 12,
   "metadata": {
    "colab": {
     "base_uri": "https://localhost:8080/"
    },
    "id": "mGq7unTO0mqD",
    "outputId": "1139b85a-af4b-4f73-fed0-991898b3f542"
   },
   "outputs": [
    {
     "name": "stdout",
     "output_type": "stream",
     "text": [
      "              precision    recall  f1-score   support\n",
      "\n",
      "           0       0.87      0.95      0.91     23836\n",
      "           1       0.74      0.52      0.61      6871\n",
      "\n",
      "    accuracy                           0.85     30707\n",
      "   macro avg       0.80      0.73      0.76     30707\n",
      "weighted avg       0.84      0.85      0.84     30707\n",
      "\n"
     ]
    }
   ],
   "source": [
    "from sklearn.metrics import classification_report\n",
    "\n",
    "print(classification_report(resultados_val, y_pred))"
   ]
  },
  {
   "cell_type": "markdown",
   "metadata": {
    "id": "k3lJa-gfJsTw"
   },
   "source": [
    "Vemos que el modelo presenta un accuracy y f1 score mejor que entrenando con otros modelos, por lo tanto ahora lo volveremos a entrenar buscando los mejores parametros."
   ]
  },
  {
   "cell_type": "markdown",
   "metadata": {
    "id": "hELD_JwT1y0T"
   },
   "source": [
    "# Buscando los mejores parametros"
   ]
  },
  {
   "cell_type": "code",
   "execution_count": 13,
   "metadata": {
    "colab": {
     "base_uri": "https://localhost:8080/"
    },
    "id": "JxzGa6UR1yOF",
    "outputId": "f634dc12-b9fa-4c22-b3f0-32d8e9e0829e"
   },
   "outputs": [
    {
     "name": "stdout",
     "output_type": "stream",
     "text": [
      "Best score: 0.883306111991858\n",
      "Best params {'learning_rate': 0.1578979378276272, 'max_depth': 8}\n"
     ]
    }
   ],
   "source": [
    "from sklearn.utils.fixes import loguniform\n",
    "\n",
    "params = {'learning_rate': loguniform(1e-3, 0.99), 'max_depth': np.arange(3, 20)}\n",
    "\n",
    "clf = GradientBoostingClassifier(random_state=117)\n",
    "\n",
    "rgscv = RandomizedSearchCV(\n",
    "    clf, params, n_iter=30, scoring='roc_auc', n_jobs=-1, cv=2, return_train_score=True, random_state=117\n",
    ").fit(datos_training_boost, resultados_training_boost.values.ravel())\n",
    "print(f\"Best score: {rgscv.best_score_}\")\n",
    "print(f\"Best params {rgscv.best_params_}\")"
   ]
  },
  {
   "cell_type": "markdown",
   "metadata": {
    "id": "MfWRzUVpdgE3"
   },
   "source": [
    "Con RandomSearch obtenemos que el mejor learning rate es 0.1578979378276272, y el mejor max_depth es 8."
   ]
  },
  {
   "cell_type": "code",
   "execution_count": 13,
   "metadata": {
    "colab": {
     "base_uri": "https://localhost:8080/"
    },
    "id": "9c5lLgHtdC6Q",
    "outputId": "b676219f-3cd8-4311-9be2-6850b5eb3088"
   },
   "outputs": [
    {
     "data": {
      "text/plain": [
       "GradientBoostingClassifier(learning_rate=0.1578979378276272, max_depth=8,\n",
       "                           random_state=117)"
      ]
     },
     "execution_count": 13,
     "metadata": {},
     "output_type": "execute_result"
    }
   ],
   "source": [
    "clf_boosting = GradientBoostingClassifier(random_state=117, learning_rate=0.1578979378276272, max_depth= 8)\n",
    "clf_boosting.fit(datos_training_boost, resultados_training_boost.values.ravel())"
   ]
  },
  {
   "cell_type": "code",
   "execution_count": 14,
   "metadata": {
    "id": "nUjzGinkdvN8"
   },
   "outputs": [],
   "source": [
    "y_pred = clf_boosting.predict(datos_val)"
   ]
  },
  {
   "cell_type": "markdown",
   "metadata": {
    "id": "1pcV1cCjEldC"
   },
   "source": [
    "Una vez obtenidas las predicciones nos interasa saber que tan bueno es el modelo, por lo tanto calcularemos distintas metricas tales como el accuracy, precion, recall y AUC ROC."
   ]
  },
  {
   "cell_type": "code",
   "execution_count": 15,
   "metadata": {
    "colab": {
     "base_uri": "https://localhost:8080/"
    },
    "id": "Wsn3ZhoBd7_l",
    "outputId": "9e20c2c4-a77e-4a48-b7ab-cedf845c3e09"
   },
   "outputs": [
    {
     "data": {
      "text/plain": [
       "0.8554075617937278"
      ]
     },
     "execution_count": 15,
     "metadata": {},
     "output_type": "execute_result"
    }
   ],
   "source": [
    "accuracy_score(y_pred, resultados_val)"
   ]
  },
  {
   "cell_type": "code",
   "execution_count": 16,
   "metadata": {
    "colab": {
     "base_uri": "https://localhost:8080/",
     "height": 404
    },
    "id": "DNmoZ-Y7eArN",
    "outputId": "8745d713-0402-4bb7-cb0c-69c7d1bfec42"
   },
   "outputs": [
    {
     "data": {
      "image/png": "[encoded data removed]",
      "text/plain": [
       "<Figure size 600x400 with 2 Axes>"
      ]
     },
     "metadata": {
      "needs_background": "light"
     },
     "output_type": "display_data"
    }
   ],
   "source": [
    "plot_confusion_matrix(resultados_val.to_numpy(), y_pred)"
   ]
  },
  {
   "cell_type": "code",
   "execution_count": 17,
   "metadata": {
    "colab": {
     "base_uri": "https://localhost:8080/"
    },
    "id": "97SmWUFHeNpF",
    "outputId": "a79f1ee4-77df-4c7b-baec-c1e846c863a4"
   },
   "outputs": [
    {
     "name": "stdout",
     "output_type": "stream",
     "text": [
      "              precision    recall  f1-score   support\n",
      "\n",
      "           0       0.88      0.94      0.91     23836\n",
      "           1       0.73      0.55      0.63      6871\n",
      "\n",
      "    accuracy                           0.86     30707\n",
      "   macro avg       0.81      0.75      0.77     30707\n",
      "weighted avg       0.85      0.86      0.85     30707\n",
      "\n"
     ]
    }
   ],
   "source": [
    "from sklearn.metrics import classification_report\n",
    "\n",
    "print(classification_report(resultados_val, y_pred))"
   ]
  },
  {
   "cell_type": "code",
   "execution_count": 18,
   "metadata": {
    "id": "v-RjiqIdKuxE"
   },
   "outputs": [],
   "source": [
    "from sklearn.metrics import roc_curve, auc\n",
    "from sklearn.metrics import roc_auc_score\n",
    "\n",
    "\n",
    "def plot_roc(_fpr, _tpr, x):\n",
    "\n",
    "    roc_auc = auc(_fpr, _tpr)\n",
    "\n",
    "    plt.figure(figsize=(15, 10))\n",
    "    plt.plot(\n",
    "        _fpr, _tpr, color='darkorange', lw=2, label=f'ROC curve (area = {roc_auc:.2f})'\n",
    "    )\n",
    "    plt.scatter(_fpr, x)\n",
    "    plt.plot([0, 1], [0, 1], color='navy', lw=2, linestyle='--')\n",
    "    plt.xlim([0.0, 1.0])\n",
    "    plt.ylim([0.0, 1.05])\n",
    "    plt.xlabel('False Positive Rate')\n",
    "    plt.ylabel('True Positive Rate')\n",
    "    plt.title('Receiver operating characteristic')\n",
    "    plt.legend(loc=\"lower right\")\n",
    "    plt.show()"
   ]
  },
  {
   "cell_type": "code",
   "execution_count": 19,
   "metadata": {
    "colab": {
     "base_uri": "https://localhost:8080/",
     "height": 638
    },
    "id": "CJMHcOiWLDE0",
    "outputId": "d62549c4-c21c-4da9-de52-a9d46087f2b0"
   },
   "outputs": [
    {
     "data": {
      "image/png": "[encoded data removed]",
      "text/plain": [
       "<Figure size 1080x720 with 1 Axes>"
      ]
     },
     "metadata": {
      "needs_background": "light"
     },
     "output_type": "display_data"
    },
    {
     "data": {
      "text/plain": [
       "0.8885976930750953"
      ]
     },
     "metadata": {},
     "output_type": "display_data"
    }
   ],
   "source": [
    "fpr, tpr, thresholds = roc_curve(resultados_val.to_numpy(), clf_boosting.predict_proba(datos_val)[:, 1])\n",
    "\n",
    "plot_roc(fpr, tpr, thresholds)\n",
    "display(roc_auc_score(resultados_val.to_numpy(), clf_boosting.predict_proba(datos_val)[:, 1]))"
   ]
  },
  {
   "cell_type": "markdown",
   "metadata": {
    "id": "lmIsGrU2BTl0"
   },
   "source": [
    "Vemos que obtenemos un accuracy bastante alto y un AUC ROC mucho mayor a los otros modelos que entrenamos, por lo tanto usaremos Kfold para validar que no haya overfitting."
   ]
  },
  {
   "cell_type": "code",
   "execution_count": 20,
   "metadata": {
    "colab": {
     "base_uri": "https://localhost:8080/"
    },
    "id": "gKrqV6qNB41B",
    "outputId": "c13abd9e-f9f1-441e-ca74-4964cee0514e"
   },
   "outputs": [
    {
     "name": "stdout",
     "output_type": "stream",
     "text": [
      "fold 0: accuracy score is 0.8577\n",
      "fold 1: accuracy score is 0.8564\n",
      "fold 2: accuracy score is 0.8517\n",
      "fold 3: accuracy score is 0.8545\n",
      "fold 4: accuracy score is 0.8563\n",
      "mean test accuracy is: 0.8553\n"
     ]
    }
   ],
   "source": [
    "clf_boosting_kfold = GradientBoostingClassifier(\n",
    "        random_state=117, learning_rate=0.1578979378276272, max_depth= 8)\n",
    "\n",
    "def kfold(clf, X, y):\n",
    "  kf = StratifiedKFold(n_splits=5)\n",
    "  test_accuracies = []\n",
    "  for fold_idx, (train_index, test_index) in enumerate(kf.split(X,y)):\n",
    "    clf.fit(X[train_index], y[train_index])\n",
    "    test_accuracy = accuracy_score(y[test_index], clf.predict(X[test_index]))\n",
    "    print(f\"fold {fold_idx}: accuracy score is {test_accuracy:.4f}\")\n",
    "    test_accuracies.append(test_accuracy)\n",
    "  print(f\"mean test accuracy is: {np.mean(test_accuracies):.4f}\")\n",
    "\n",
    "kfold(clf_boosting_kfold, datos_training_boost, resultados_training_boost.values.ravel())"
   ]
  },
  {
   "cell_type": "markdown",
   "metadata": {
    "id": "dqbX7EuAiJXr"
   },
   "source": [
    "# Reduciendo dimensionalidad"
   ]
  },
  {
   "cell_type": "code",
   "execution_count": 21,
   "metadata": {
    "colab": {
     "base_uri": "https://localhost:8080/"
    },
    "id": "XlF2GlAciIa7",
    "outputId": "de6e4d1f-0852-4b5c-e4b7-7051206313f6"
   },
   "outputs": [
    {
     "data": {
      "text/plain": [
       "array([0.01477885, 0.05450138, 0.38779406, 0.02590946, 0.01423354,\n",
       "       0.05834631, 0.01893698, 0.00762699, 0.072198  , 0.02597597,\n",
       "       0.07479009, 0.02391909, 0.02888858, 0.02466114, 0.02702917,\n",
       "       0.01840165, 0.01308596, 0.00213963, 0.01587552, 0.0136413 ,\n",
       "       0.0127983 , 0.00358071, 0.0055063 , 0.00779227, 0.00342591,\n",
       "       0.00415008, 0.00511196, 0.00300853, 0.00570128, 0.00367863,\n",
       "       0.00944428, 0.01306808])"
      ]
     },
     "execution_count": 21,
     "metadata": {},
     "output_type": "execute_result"
    }
   ],
   "source": [
    "clf_boosting.feature_importances_"
   ]
  },
  {
   "cell_type": "markdown",
   "metadata": {
    "id": "OkVWC7YbHjIC"
   },
   "source": [
    "Dado que el modelo de boosting tiene el atributo feature_importances podemos utilizar SelectFromModel para seleccionar los features mas importantes."
   ]
  },
  {
   "cell_type": "code",
   "execution_count": 22,
   "metadata": {
    "id": "HHDGanDeibRH"
   },
   "outputs": [],
   "source": [
    "from sklearn.feature_selection import SelectFromModel\n",
    "\n",
    "selector = SelectFromModel(estimator=clf_boosting, prefit=True)"
   ]
  },
  {
   "cell_type": "code",
   "execution_count": 23,
   "metadata": {
    "colab": {
     "base_uri": "https://localhost:8080/"
    },
    "id": "JaYgBNRKin2j",
    "outputId": "dfe122f7-b691-430c-f6f8-42393120db46"
   },
   "outputs": [
    {
     "data": {
      "text/plain": [
       "array([False,  True,  True, False, False,  True, False, False,  True,\n",
       "       False,  True, False, False, False, False, False, False, False,\n",
       "       False, False, False, False, False, False, False, False, False,\n",
       "       False, False, False, False, False])"
      ]
     },
     "execution_count": 23,
     "metadata": {},
     "output_type": "execute_result"
    }
   ],
   "source": [
    "selector.get_support()"
   ]
  },
  {
   "cell_type": "code",
   "execution_count": 24,
   "metadata": {
    "colab": {
     "base_uri": "https://localhost:8080/",
     "height": 458
    },
    "id": "LY_UiQ20kAYe",
    "outputId": "ad74cf4c-81b4-41e6-e4db-58f6273f2a6d"
   },
   "outputs": [
    {
     "data": {
      "text/html": [
       "<div>\n",
       "<style scoped>\n",
       "    .dataframe tbody tr th:only-of-type {\n",
       "        vertical-align: middle;\n",
       "    }\n",
       "\n",
       "    .dataframe tbody tr th {\n",
       "        vertical-align: top;\n",
       "    }\n",
       "\n",
       "    .dataframe thead th {\n",
       "        text-align: right;\n",
       "    }\n",
       "</style>\n",
       "<table border=\"1\" class=\"dataframe\">\n",
       "  <thead>\n",
       "    <tr style=\"text-align: right;\">\n",
       "      <th></th>\n",
       "      <th>0</th>\n",
       "      <th>1</th>\n",
       "      <th>2</th>\n",
       "      <th>3</th>\n",
       "      <th>4</th>\n",
       "    </tr>\n",
       "  </thead>\n",
       "  <tbody>\n",
       "    <tr>\n",
       "      <th>0</th>\n",
       "      <td>7.644989</td>\n",
       "      <td>59.0</td>\n",
       "      <td>0.000000</td>\n",
       "      <td>1018.700012</td>\n",
       "      <td>28.0</td>\n",
       "    </tr>\n",
       "    <tr>\n",
       "      <th>1</th>\n",
       "      <td>5.800000</td>\n",
       "      <td>62.0</td>\n",
       "      <td>0.000000</td>\n",
       "      <td>1005.000000</td>\n",
       "      <td>72.0</td>\n",
       "    </tr>\n",
       "    <tr>\n",
       "      <th>2</th>\n",
       "      <td>7.200000</td>\n",
       "      <td>71.0</td>\n",
       "      <td>1.000000</td>\n",
       "      <td>1008.799988</td>\n",
       "      <td>35.0</td>\n",
       "    </tr>\n",
       "    <tr>\n",
       "      <th>3</th>\n",
       "      <td>7.644989</td>\n",
       "      <td>62.0</td>\n",
       "      <td>0.000000</td>\n",
       "      <td>1007.799988</td>\n",
       "      <td>39.0</td>\n",
       "    </tr>\n",
       "    <tr>\n",
       "      <th>4</th>\n",
       "      <td>7.644989</td>\n",
       "      <td>61.0</td>\n",
       "      <td>0.000000</td>\n",
       "      <td>1016.599976</td>\n",
       "      <td>30.0</td>\n",
       "    </tr>\n",
       "    <tr>\n",
       "      <th>...</th>\n",
       "      <td>...</td>\n",
       "      <td>...</td>\n",
       "      <td>...</td>\n",
       "      <td>...</td>\n",
       "      <td>...</td>\n",
       "    </tr>\n",
       "    <tr>\n",
       "      <th>71644</th>\n",
       "      <td>7.644989</td>\n",
       "      <td>33.0</td>\n",
       "      <td>0.000000</td>\n",
       "      <td>1018.099976</td>\n",
       "      <td>35.0</td>\n",
       "    </tr>\n",
       "    <tr>\n",
       "      <th>71645</th>\n",
       "      <td>7.644989</td>\n",
       "      <td>45.0</td>\n",
       "      <td>0.000000</td>\n",
       "      <td>1015.299988</td>\n",
       "      <td>33.0</td>\n",
       "    </tr>\n",
       "    <tr>\n",
       "      <th>71646</th>\n",
       "      <td>0.900000</td>\n",
       "      <td>66.0</td>\n",
       "      <td>11.800000</td>\n",
       "      <td>1020.599976</td>\n",
       "      <td>59.0</td>\n",
       "    </tr>\n",
       "    <tr>\n",
       "      <th>71647</th>\n",
       "      <td>7.644989</td>\n",
       "      <td>34.0</td>\n",
       "      <td>2.367993</td>\n",
       "      <td>1014.200012</td>\n",
       "      <td>96.0</td>\n",
       "    </tr>\n",
       "    <tr>\n",
       "      <th>71648</th>\n",
       "      <td>7.644989</td>\n",
       "      <td>36.0</td>\n",
       "      <td>0.000000</td>\n",
       "      <td>1017.700012</td>\n",
       "      <td>35.0</td>\n",
       "    </tr>\n",
       "  </tbody>\n",
       "</table>\n",
       "<p>71649 rows × 5 columns</p>\n",
       "</div>"
      ],
      "text/plain": [
       "              0     1          2            3     4\n",
       "0      7.644989  59.0   0.000000  1018.700012  28.0\n",
       "1      5.800000  62.0   0.000000  1005.000000  72.0\n",
       "2      7.200000  71.0   1.000000  1008.799988  35.0\n",
       "3      7.644989  62.0   0.000000  1007.799988  39.0\n",
       "4      7.644989  61.0   0.000000  1016.599976  30.0\n",
       "...         ...   ...        ...          ...   ...\n",
       "71644  7.644989  33.0   0.000000  1018.099976  35.0\n",
       "71645  7.644989  45.0   0.000000  1015.299988  33.0\n",
       "71646  0.900000  66.0  11.800000  1020.599976  59.0\n",
       "71647  7.644989  34.0   2.367993  1014.200012  96.0\n",
       "71648  7.644989  36.0   0.000000  1017.700012  35.0\n",
       "\n",
       "[71649 rows x 5 columns]"
      ]
     },
     "execution_count": 24,
     "metadata": {},
     "output_type": "execute_result"
    }
   ],
   "source": [
    "datos_training_reduced = selector.transform(datos_training_boost)\n",
    "pd.DataFrame(datos_training_reduced)"
   ]
  },
  {
   "cell_type": "markdown",
   "metadata": {
    "id": "zsmb1UmhICaI"
   },
   "source": [
    "Con este nuevo dataset entrenaremos el modelo y miraremos los resultados."
   ]
  },
  {
   "cell_type": "code",
   "execution_count": 25,
   "metadata": {
    "colab": {
     "base_uri": "https://localhost:8080/"
    },
    "id": "AiwjfKKuk7AW",
    "outputId": "13a6ff53-d16f-41e1-facb-0e0aca9318bf"
   },
   "outputs": [
    {
     "data": {
      "text/plain": [
       "GradientBoostingClassifier(learning_rate=0.1578979378276272, max_depth=8,\n",
       "                           random_state=117)"
      ]
     },
     "execution_count": 25,
     "metadata": {},
     "output_type": "execute_result"
    }
   ],
   "source": [
    "clf_boosting_reduced = GradientBoostingClassifier(random_state=117, learning_rate=0.1578979378276272, max_depth= 8)\n",
    "clf_boosting_reduced.fit(datos_training_reduced, resultados_training_boost.values.ravel())"
   ]
  },
  {
   "cell_type": "code",
   "execution_count": 26,
   "metadata": {
    "id": "Jrk9tOt4lMyM"
   },
   "outputs": [],
   "source": [
    "datos_val_reduced = selector.transform(datos_val)\n",
    "y_pred_reduced = clf_boosting_reduced.predict(datos_val_reduced)"
   ]
  },
  {
   "cell_type": "code",
   "execution_count": 27,
   "metadata": {
    "colab": {
     "base_uri": "https://localhost:8080/"
    },
    "id": "TmgsNES3lVrT",
    "outputId": "8c9099f1-a1bc-443d-bae4-d01e4fe746bc"
   },
   "outputs": [
    {
     "data": {
      "text/plain": [
       "0.840069039632657"
      ]
     },
     "execution_count": 27,
     "metadata": {},
     "output_type": "execute_result"
    }
   ],
   "source": [
    "accuracy_score(y_pred_reduced, resultados_val)"
   ]
  },
  {
   "cell_type": "code",
   "execution_count": 28,
   "metadata": {
    "colab": {
     "base_uri": "https://localhost:8080/",
     "height": 404
    },
    "id": "uajPUecYlbRj",
    "outputId": "ba1dcc89-ff7e-44e4-f3b3-697e4ee08594"
   },
   "outputs": [
    {
     "data": {
      "image/png": "[encoded data removed]",
      "text/plain": [
       "<Figure size 600x400 with 2 Axes>"
      ]
     },
     "metadata": {
      "needs_background": "light"
     },
     "output_type": "display_data"
    }
   ],
   "source": [
    "plot_confusion_matrix(resultados_val.to_numpy(), y_pred_reduced)"
   ]
  },
  {
   "cell_type": "code",
   "execution_count": 29,
   "metadata": {
    "colab": {
     "base_uri": "https://localhost:8080/"
    },
    "id": "CdLoDFHUljwL",
    "outputId": "81550b5f-2b17-493b-9727-c5c357e5e601"
   },
   "outputs": [
    {
     "name": "stdout",
     "output_type": "stream",
     "text": [
      "              precision    recall  f1-score   support\n",
      "\n",
      "           0       0.86      0.94      0.90     23836\n",
      "           1       0.71      0.49      0.58      6871\n",
      "\n",
      "    accuracy                           0.84     30707\n",
      "   macro avg       0.79      0.71      0.74     30707\n",
      "weighted avg       0.83      0.84      0.83     30707\n",
      "\n"
     ]
    }
   ],
   "source": [
    "print(classification_report(resultados_val, y_pred_reduced))"
   ]
  },
  {
   "cell_type": "code",
   "execution_count": 30,
   "metadata": {
    "colab": {
     "base_uri": "https://localhost:8080/",
     "height": 638
    },
    "id": "cM1oF-J9LlwG",
    "outputId": "ea597f24-32e7-4ef3-e451-d6fb5f359963"
   },
   "outputs": [
    {
     "data": {
      "image/png": "[encoded data removed]",
      "text/plain": [
       "<Figure size 1080x720 with 1 Axes>"
      ]
     },
     "metadata": {
      "needs_background": "light"
     },
     "output_type": "display_data"
    },
    {
     "data": {
      "text/plain": [
       "0.8605257316838498"
      ]
     },
     "metadata": {},
     "output_type": "display_data"
    }
   ],
   "source": [
    "fpr, tpr, thresholds = roc_curve(resultados_val.to_numpy(), clf_boosting_reduced.predict_proba(datos_val_reduced)[:, 1])\n",
    "\n",
    "plot_roc(fpr, tpr, thresholds)\n",
    "display(roc_auc_score(resultados_val.to_numpy(), clf_boosting_reduced.predict_proba(datos_val_reduced)[:, 1]))"
   ]
  },
  {
   "cell_type": "markdown",
   "metadata": {
    "id": "4-pp8wVRlsD8"
   },
   "source": [
    "Podemos ver que el AUC ROC disminuyo de 0.89 a 0.86, por lo tanto no usaremos este modelo."
   ]
  },
  {
   "cell_type": "markdown",
   "metadata": {
    "id": "y7LzGRBLmdX8"
   },
   "source": [
    "## Modelo utilizando imputers"
   ]
  },
  {
   "cell_type": "markdown",
   "metadata": {
    "id": "ZKHzWpZFIsnt"
   },
   "source": [
    "Uno vez que obtenemos los parametros y los features a utilizar, probaremos entrenar el modelo rellenando los missings del dataset con IterativeImputer (utilizando datos de las demas columnas) para ver si podemos conseguir mejores resultados."
   ]
  },
  {
   "cell_type": "code",
   "execution_count": 31,
   "metadata": {
    "colab": {
     "base_uri": "https://localhost:8080/",
     "height": 423
    },
    "id": "IzFfqy9QmkG7",
    "outputId": "c6b5793d-6d8e-46cc-bfe9-7190d61b2ee1"
   },
   "outputs": [
    {
     "data": {
      "text/html": [
       "<div>\n",
       "<style scoped>\n",
       "    .dataframe tbody tr th:only-of-type {\n",
       "        vertical-align: middle;\n",
       "    }\n",
       "\n",
       "    .dataframe tbody tr th {\n",
       "        vertical-align: top;\n",
       "    }\n",
       "\n",
       "    .dataframe thead th {\n",
       "        text-align: right;\n",
       "    }\n",
       "</style>\n",
       "<table border=\"1\" class=\"dataframe\">\n",
       "  <thead>\n",
       "    <tr style=\"text-align: right;\">\n",
       "      <th></th>\n",
       "      <th>0</th>\n",
       "      <th>1</th>\n",
       "      <th>2</th>\n",
       "      <th>3</th>\n",
       "      <th>4</th>\n",
       "      <th>5</th>\n",
       "      <th>6</th>\n",
       "      <th>7</th>\n",
       "      <th>8</th>\n",
       "      <th>9</th>\n",
       "      <th>...</th>\n",
       "      <th>22</th>\n",
       "      <th>23</th>\n",
       "      <th>24</th>\n",
       "      <th>25</th>\n",
       "      <th>26</th>\n",
       "      <th>27</th>\n",
       "      <th>28</th>\n",
       "      <th>29</th>\n",
       "      <th>30</th>\n",
       "      <th>31</th>\n",
       "    </tr>\n",
       "  </thead>\n",
       "  <tbody>\n",
       "    <tr>\n",
       "      <th>0</th>\n",
       "      <td>12.0</td>\n",
       "      <td>5.855419</td>\n",
       "      <td>59.0</td>\n",
       "      <td>69.0</td>\n",
       "      <td>3.547174</td>\n",
       "      <td>0.000000</td>\n",
       "      <td>4.662774</td>\n",
       "      <td>5.157845</td>\n",
       "      <td>1018.700012</td>\n",
       "      <td>1021.3</td>\n",
       "      <td>...</td>\n",
       "      <td>6.0</td>\n",
       "      <td>-1.0</td>\n",
       "      <td>-5.0</td>\n",
       "      <td>8.0</td>\n",
       "      <td>0.0</td>\n",
       "      <td>-2.0</td>\n",
       "      <td>5.0</td>\n",
       "      <td>-1.0</td>\n",
       "      <td>2014.0</td>\n",
       "      <td>6.0</td>\n",
       "    </tr>\n",
       "    <tr>\n",
       "      <th>1</th>\n",
       "      <td>11.0</td>\n",
       "      <td>5.800000</td>\n",
       "      <td>62.0</td>\n",
       "      <td>67.0</td>\n",
       "      <td>6.400000</td>\n",
       "      <td>0.000000</td>\n",
       "      <td>3.000000</td>\n",
       "      <td>6.000000</td>\n",
       "      <td>1005.000000</td>\n",
       "      <td>1008.5</td>\n",
       "      <td>...</td>\n",
       "      <td>8.0</td>\n",
       "      <td>0.0</td>\n",
       "      <td>-5.0</td>\n",
       "      <td>8.0</td>\n",
       "      <td>0.0</td>\n",
       "      <td>-1.0</td>\n",
       "      <td>1.0</td>\n",
       "      <td>0.0</td>\n",
       "      <td>2013.0</td>\n",
       "      <td>11.0</td>\n",
       "    </tr>\n",
       "    <tr>\n",
       "      <th>2</th>\n",
       "      <td>19.0</td>\n",
       "      <td>7.200000</td>\n",
       "      <td>71.0</td>\n",
       "      <td>75.0</td>\n",
       "      <td>5.200000</td>\n",
       "      <td>1.000000</td>\n",
       "      <td>5.000000</td>\n",
       "      <td>5.000000</td>\n",
       "      <td>1008.799988</td>\n",
       "      <td>1011.2</td>\n",
       "      <td>...</td>\n",
       "      <td>3.0</td>\n",
       "      <td>-1.0</td>\n",
       "      <td>-4.0</td>\n",
       "      <td>6.0</td>\n",
       "      <td>0.0</td>\n",
       "      <td>-4.0</td>\n",
       "      <td>5.0</td>\n",
       "      <td>0.0</td>\n",
       "      <td>2012.0</td>\n",
       "      <td>11.0</td>\n",
       "    </tr>\n",
       "    <tr>\n",
       "      <th>3</th>\n",
       "      <td>5.0</td>\n",
       "      <td>8.739483</td>\n",
       "      <td>62.0</td>\n",
       "      <td>63.0</td>\n",
       "      <td>7.652876</td>\n",
       "      <td>0.000000</td>\n",
       "      <td>4.447522</td>\n",
       "      <td>4.419859</td>\n",
       "      <td>1007.799988</td>\n",
       "      <td>1009.0</td>\n",
       "      <td>...</td>\n",
       "      <td>4.0</td>\n",
       "      <td>0.0</td>\n",
       "      <td>-4.0</td>\n",
       "      <td>6.0</td>\n",
       "      <td>0.0</td>\n",
       "      <td>-3.0</td>\n",
       "      <td>4.0</td>\n",
       "      <td>0.0</td>\n",
       "      <td>2009.0</td>\n",
       "      <td>2.0</td>\n",
       "    </tr>\n",
       "    <tr>\n",
       "      <th>4</th>\n",
       "      <td>26.0</td>\n",
       "      <td>4.483617</td>\n",
       "      <td>61.0</td>\n",
       "      <td>84.0</td>\n",
       "      <td>0.556286</td>\n",
       "      <td>0.000000</td>\n",
       "      <td>5.239149</td>\n",
       "      <td>5.182721</td>\n",
       "      <td>1016.599976</td>\n",
       "      <td>1020.8</td>\n",
       "      <td>...</td>\n",
       "      <td>5.0</td>\n",
       "      <td>-1.0</td>\n",
       "      <td>-2.0</td>\n",
       "      <td>5.0</td>\n",
       "      <td>-1.0</td>\n",
       "      <td>-2.0</td>\n",
       "      <td>3.0</td>\n",
       "      <td>0.0</td>\n",
       "      <td>2016.0</td>\n",
       "      <td>6.0</td>\n",
       "    </tr>\n",
       "    <tr>\n",
       "      <th>...</th>\n",
       "      <td>...</td>\n",
       "      <td>...</td>\n",
       "      <td>...</td>\n",
       "      <td>...</td>\n",
       "      <td>...</td>\n",
       "      <td>...</td>\n",
       "      <td>...</td>\n",
       "      <td>...</td>\n",
       "      <td>...</td>\n",
       "      <td>...</td>\n",
       "      <td>...</td>\n",
       "      <td>...</td>\n",
       "      <td>...</td>\n",
       "      <td>...</td>\n",
       "      <td>...</td>\n",
       "      <td>...</td>\n",
       "      <td>...</td>\n",
       "      <td>...</td>\n",
       "      <td>...</td>\n",
       "      <td>...</td>\n",
       "      <td>...</td>\n",
       "    </tr>\n",
       "    <tr>\n",
       "      <th>71644</th>\n",
       "      <td>14.0</td>\n",
       "      <td>10.808036</td>\n",
       "      <td>33.0</td>\n",
       "      <td>62.0</td>\n",
       "      <td>7.109894</td>\n",
       "      <td>0.000000</td>\n",
       "      <td>2.859081</td>\n",
       "      <td>1.986983</td>\n",
       "      <td>1018.099976</td>\n",
       "      <td>1022.1</td>\n",
       "      <td>...</td>\n",
       "      <td>6.0</td>\n",
       "      <td>-1.0</td>\n",
       "      <td>-1.0</td>\n",
       "      <td>3.0</td>\n",
       "      <td>-1.0</td>\n",
       "      <td>-4.0</td>\n",
       "      <td>5.0</td>\n",
       "      <td>0.0</td>\n",
       "      <td>2014.0</td>\n",
       "      <td>1.0</td>\n",
       "    </tr>\n",
       "    <tr>\n",
       "      <th>71645</th>\n",
       "      <td>21.0</td>\n",
       "      <td>9.795808</td>\n",
       "      <td>45.0</td>\n",
       "      <td>84.0</td>\n",
       "      <td>1.206283</td>\n",
       "      <td>0.000000</td>\n",
       "      <td>1.000000</td>\n",
       "      <td>2.000000</td>\n",
       "      <td>1015.299988</td>\n",
       "      <td>1020.1</td>\n",
       "      <td>...</td>\n",
       "      <td>4.0</td>\n",
       "      <td>-1.0</td>\n",
       "      <td>-3.0</td>\n",
       "      <td>4.0</td>\n",
       "      <td>0.0</td>\n",
       "      <td>-1.0</td>\n",
       "      <td>3.0</td>\n",
       "      <td>-1.0</td>\n",
       "      <td>2012.0</td>\n",
       "      <td>8.0</td>\n",
       "    </tr>\n",
       "    <tr>\n",
       "      <th>71646</th>\n",
       "      <td>5.0</td>\n",
       "      <td>0.900000</td>\n",
       "      <td>66.0</td>\n",
       "      <td>63.0</td>\n",
       "      <td>0.600000</td>\n",
       "      <td>11.800000</td>\n",
       "      <td>7.000000</td>\n",
       "      <td>8.000000</td>\n",
       "      <td>1020.599976</td>\n",
       "      <td>1019.7</td>\n",
       "      <td>...</td>\n",
       "      <td>4.0</td>\n",
       "      <td>0.0</td>\n",
       "      <td>-4.0</td>\n",
       "      <td>6.0</td>\n",
       "      <td>0.0</td>\n",
       "      <td>-3.0</td>\n",
       "      <td>4.0</td>\n",
       "      <td>0.0</td>\n",
       "      <td>2012.0</td>\n",
       "      <td>6.0</td>\n",
       "    </tr>\n",
       "    <tr>\n",
       "      <th>71647</th>\n",
       "      <td>30.0</td>\n",
       "      <td>9.233298</td>\n",
       "      <td>34.0</td>\n",
       "      <td>47.0</td>\n",
       "      <td>7.346034</td>\n",
       "      <td>2.476756</td>\n",
       "      <td>1.000000</td>\n",
       "      <td>2.242586</td>\n",
       "      <td>1014.200012</td>\n",
       "      <td>1017.1</td>\n",
       "      <td>...</td>\n",
       "      <td>8.0</td>\n",
       "      <td>0.0</td>\n",
       "      <td>-2.0</td>\n",
       "      <td>5.0</td>\n",
       "      <td>-1.0</td>\n",
       "      <td>-5.0</td>\n",
       "      <td>8.0</td>\n",
       "      <td>0.0</td>\n",
       "      <td>2014.0</td>\n",
       "      <td>7.0</td>\n",
       "    </tr>\n",
       "    <tr>\n",
       "      <th>71648</th>\n",
       "      <td>4.0</td>\n",
       "      <td>9.685848</td>\n",
       "      <td>36.0</td>\n",
       "      <td>74.0</td>\n",
       "      <td>2.772504</td>\n",
       "      <td>0.000000</td>\n",
       "      <td>2.938056</td>\n",
       "      <td>2.271382</td>\n",
       "      <td>1017.700012</td>\n",
       "      <td>1023.3</td>\n",
       "      <td>...</td>\n",
       "      <td>8.0</td>\n",
       "      <td>0.0</td>\n",
       "      <td>-1.0</td>\n",
       "      <td>3.0</td>\n",
       "      <td>-1.0</td>\n",
       "      <td>-2.0</td>\n",
       "      <td>5.0</td>\n",
       "      <td>-1.0</td>\n",
       "      <td>2013.0</td>\n",
       "      <td>10.0</td>\n",
       "    </tr>\n",
       "  </tbody>\n",
       "</table>\n",
       "<p>71649 rows × 32 columns</p>\n",
       "</div>"
      ],
      "text/plain": [
       "         0          1     2     3         4          5         6         7   \\\n",
       "0      12.0   5.855419  59.0  69.0  3.547174   0.000000  4.662774  5.157845   \n",
       "1      11.0   5.800000  62.0  67.0  6.400000   0.000000  3.000000  6.000000   \n",
       "2      19.0   7.200000  71.0  75.0  5.200000   1.000000  5.000000  5.000000   \n",
       "3       5.0   8.739483  62.0  63.0  7.652876   0.000000  4.447522  4.419859   \n",
       "4      26.0   4.483617  61.0  84.0  0.556286   0.000000  5.239149  5.182721   \n",
       "...     ...        ...   ...   ...       ...        ...       ...       ...   \n",
       "71644  14.0  10.808036  33.0  62.0  7.109894   0.000000  2.859081  1.986983   \n",
       "71645  21.0   9.795808  45.0  84.0  1.206283   0.000000  1.000000  2.000000   \n",
       "71646   5.0   0.900000  66.0  63.0  0.600000  11.800000  7.000000  8.000000   \n",
       "71647  30.0   9.233298  34.0  47.0  7.346034   2.476756  1.000000  2.242586   \n",
       "71648   4.0   9.685848  36.0  74.0  2.772504   0.000000  2.938056  2.271382   \n",
       "\n",
       "                8       9   ...   22   23   24   25   26   27   28   29  \\\n",
       "0      1018.700012  1021.3  ...  6.0 -1.0 -5.0  8.0  0.0 -2.0  5.0 -1.0   \n",
       "1      1005.000000  1008.5  ...  8.0  0.0 -5.0  8.0  0.0 -1.0  1.0  0.0   \n",
       "2      1008.799988  1011.2  ...  3.0 -1.0 -4.0  6.0  0.0 -4.0  5.0  0.0   \n",
       "3      1007.799988  1009.0  ...  4.0  0.0 -4.0  6.0  0.0 -3.0  4.0  0.0   \n",
       "4      1016.599976  1020.8  ...  5.0 -1.0 -2.0  5.0 -1.0 -2.0  3.0  0.0   \n",
       "...            ...     ...  ...  ...  ...  ...  ...  ...  ...  ...  ...   \n",
       "71644  1018.099976  1022.1  ...  6.0 -1.0 -1.0  3.0 -1.0 -4.0  5.0  0.0   \n",
       "71645  1015.299988  1020.1  ...  4.0 -1.0 -3.0  4.0  0.0 -1.0  3.0 -1.0   \n",
       "71646  1020.599976  1019.7  ...  4.0  0.0 -4.0  6.0  0.0 -3.0  4.0  0.0   \n",
       "71647  1014.200012  1017.1  ...  8.0  0.0 -2.0  5.0 -1.0 -5.0  8.0  0.0   \n",
       "71648  1017.700012  1023.3  ...  8.0  0.0 -1.0  3.0 -1.0 -2.0  5.0 -1.0   \n",
       "\n",
       "           30    31  \n",
       "0      2014.0   6.0  \n",
       "1      2013.0  11.0  \n",
       "2      2012.0  11.0  \n",
       "3      2009.0   2.0  \n",
       "4      2016.0   6.0  \n",
       "...       ...   ...  \n",
       "71644  2014.0   1.0  \n",
       "71645  2012.0   8.0  \n",
       "71646  2012.0   6.0  \n",
       "71647  2014.0   7.0  \n",
       "71648  2013.0  10.0  \n",
       "\n",
       "[71649 rows x 32 columns]"
      ]
     },
     "execution_count": 31,
     "metadata": {},
     "output_type": "execute_result"
    }
   ],
   "source": [
    "from sklearn.impute import IterativeImputer\n",
    "\n",
    "datos_training_iterative = preprocessing_(datos_training)\n",
    "imputer = IterativeImputer(random_state=117, max_iter=50)\n",
    "imputer.fit(datos_training_iterative)\n",
    "datos_training_iterative = imputer.transform(datos_training_iterative)\n",
    "\n",
    "pd.DataFrame(datos_training_iterative)"
   ]
  },
  {
   "cell_type": "code",
   "execution_count": 36,
   "metadata": {},
   "outputs": [
    {
     "name": "stdout",
     "output_type": "stream",
     "text": [
      "Best score: 0.8814217678142866\n",
      "Best params {'learning_rate': 0.04340652502562125, 'max_depth': 7}\n"
     ]
    }
   ],
   "source": [
    "params = {'learning_rate': loguniform(1e-3, 0.99), 'max_depth': np.arange(3, 20)}\n",
    "\n",
    "clf = GradientBoostingClassifier(random_state=117)\n",
    "\n",
    "rgscv = RandomizedSearchCV(\n",
    "    clf, params, n_iter=30, scoring='roc_auc', n_jobs=-1, cv=2, return_train_score=True, random_state=117\n",
    ").fit(datos_training_iterative, resultados_training_boost.values.ravel())\n",
    "print(f\"Best score: {rgscv.best_score_}\")\n",
    "print(f\"Best params {rgscv.best_params_}\")"
   ]
  },
  {
   "cell_type": "code",
   "execution_count": 32,
   "metadata": {
    "colab": {
     "base_uri": "https://localhost:8080/"
    },
    "id": "1Dn5Mozqpgvz",
    "outputId": "b07d45a6-f010-4145-c337-ddc6f992a57f"
   },
   "outputs": [
    {
     "data": {
      "text/plain": [
       "GradientBoostingClassifier(learning_rate=0.04340652502562125, max_depth=7,\n",
       "                           random_state=117)"
      ]
     },
     "execution_count": 32,
     "metadata": {},
     "output_type": "execute_result"
    }
   ],
   "source": [
    "clf_boosting_imputed = GradientBoostingClassifier(random_state=117, learning_rate=0.04340652502562125, max_depth= 7)\n",
    "clf_boosting_imputed.fit(datos_training_iterative, resultados_training_boost.values.ravel())"
   ]
  },
  {
   "cell_type": "markdown",
   "metadata": {},
   "source": [
    "Preprocesamos el dataset de validacon."
   ]
  },
  {
   "cell_type": "code",
   "execution_count": 33,
   "metadata": {},
   "outputs": [],
   "source": [
    "datos_val_iterative = preprocessing_(X_val_dev)\n",
    "datos_val_iterative = imputer.transform(datos_val_iterative)"
   ]
  },
  {
   "cell_type": "code",
   "execution_count": 34,
   "metadata": {
    "id": "d-Uzq43Opdz_"
   },
   "outputs": [],
   "source": [
    "y_pred_imputed = clf_boosting_imputed.predict(datos_val_iterative)"
   ]
  },
  {
   "cell_type": "code",
   "execution_count": 35,
   "metadata": {
    "colab": {
     "base_uri": "https://localhost:8080/"
    },
    "id": "rbTg0FkSpw3H",
    "outputId": "f18f87d2-ffae-45b9-a768-1d325b9938ff"
   },
   "outputs": [
    {
     "data": {
      "text/plain": [
       "0.854593415182206"
      ]
     },
     "execution_count": 35,
     "metadata": {},
     "output_type": "execute_result"
    }
   ],
   "source": [
    "accuracy_score(y_pred_imputed, resultados_val)"
   ]
  },
  {
   "cell_type": "code",
   "execution_count": 36,
   "metadata": {
    "colab": {
     "base_uri": "https://localhost:8080/",
     "height": 404
    },
    "id": "_xrDAxezp8-r",
    "outputId": "dc2816c8-73d6-4c1c-e41d-88d7f996a922"
   },
   "outputs": [
    {
     "data": {
      "image/png": "[encoded data removed]",
      "text/plain": [
       "<Figure size 600x400 with 2 Axes>"
      ]
     },
     "metadata": {
      "needs_background": "light"
     },
     "output_type": "display_data"
    }
   ],
   "source": [
    "plot_confusion_matrix(resultados_val.to_numpy(), y_pred_imputed)"
   ]
  },
  {
   "cell_type": "code",
   "execution_count": 37,
   "metadata": {
    "colab": {
     "base_uri": "https://localhost:8080/"
    },
    "id": "gxOJBoqAqEub",
    "outputId": "d8098ee8-ab6b-447c-ca49-ec6dee30cb56"
   },
   "outputs": [
    {
     "name": "stdout",
     "output_type": "stream",
     "text": [
      "              precision    recall  f1-score   support\n",
      "\n",
      "           0       0.87      0.95      0.91     23836\n",
      "           1       0.75      0.52      0.62      6871\n",
      "\n",
      "    accuracy                           0.85     30707\n",
      "   macro avg       0.81      0.74      0.76     30707\n",
      "weighted avg       0.85      0.85      0.84     30707\n",
      "\n"
     ]
    }
   ],
   "source": [
    "print(classification_report(resultados_val, y_pred_imputed))"
   ]
  },
  {
   "cell_type": "code",
   "execution_count": 38,
   "metadata": {
    "colab": {
     "base_uri": "https://localhost:8080/",
     "height": 638
    },
    "id": "FxmIJPpovP23",
    "outputId": "d0f5497c-7580-4631-ab6c-f76793242d70"
   },
   "outputs": [
    {
     "data": {
      "image/png": "[encoded data removed]",
      "text/plain": [
       "<Figure size 1080x720 with 1 Axes>"
      ]
     },
     "metadata": {
      "needs_background": "light"
     },
     "output_type": "display_data"
    },
    {
     "data": {
      "text/plain": [
       "0.8826094342485712"
      ]
     },
     "metadata": {},
     "output_type": "display_data"
    }
   ],
   "source": [
    "fpr, tpr, thresholds = roc_curve(resultados_val.to_numpy(), clf_boosting_imputed.predict_proba(datos_val_iterative)[:, 1])\n",
    "\n",
    "plot_roc(fpr, tpr, thresholds)\n",
    "display(roc_auc_score(resultados_val.to_numpy(), clf_boosting_imputed.predict_proba(datos_val_iterative)[:, 1]))"
   ]
  },
  {
   "cell_type": "markdown",
   "metadata": {
    "id": "oQRaWP4ZwSFa"
   },
   "source": [
    "Vemos que utilizar imputers no mejora la prediccion, y dado que es mas costoso de calcular no lo utilizaremos en nuestro modelo final."
   ]
  },
  {
   "cell_type": "markdown",
   "metadata": {
    "id": "BJuiPXy1eZ1q"
   },
   "source": [
    "# Predicciones sobre el test-holdout"
   ]
  },
  {
   "cell_type": "code",
   "execution_count": 5,
   "metadata": {
    "colab": {
     "base_uri": "https://localhost:8080/",
     "height": 443
    },
    "id": "UXv2HwA9eq_V",
    "outputId": "77e359db-f508-458a-e59c-6e7521554109"
   },
   "outputs": [
    {
     "data": {
      "text/html": [
       "<div>\n",
       "<style scoped>\n",
       "    .dataframe tbody tr th:only-of-type {\n",
       "        vertical-align: middle;\n",
       "    }\n",
       "\n",
       "    .dataframe tbody tr th {\n",
       "        vertical-align: top;\n",
       "    }\n",
       "\n",
       "    .dataframe thead th {\n",
       "        text-align: right;\n",
       "    }\n",
       "</style>\n",
       "<table border=\"1\" class=\"dataframe\">\n",
       "  <thead>\n",
       "    <tr style=\"text-align: right;\">\n",
       "      <th></th>\n",
       "      <th>0</th>\n",
       "      <th>1</th>\n",
       "      <th>2</th>\n",
       "      <th>3</th>\n",
       "      <th>4</th>\n",
       "      <th>5</th>\n",
       "      <th>6</th>\n",
       "      <th>7</th>\n",
       "      <th>8</th>\n",
       "      <th>9</th>\n",
       "      <th>...</th>\n",
       "      <th>22</th>\n",
       "      <th>23</th>\n",
       "      <th>24</th>\n",
       "      <th>25</th>\n",
       "      <th>26</th>\n",
       "      <th>27</th>\n",
       "      <th>28</th>\n",
       "      <th>29</th>\n",
       "      <th>30</th>\n",
       "      <th>31</th>\n",
       "    </tr>\n",
       "  </thead>\n",
       "  <tbody>\n",
       "    <tr>\n",
       "      <th>0</th>\n",
       "      <td>6.0</td>\n",
       "      <td>7.644989</td>\n",
       "      <td>69.0</td>\n",
       "      <td>66.0</td>\n",
       "      <td>5.45772</td>\n",
       "      <td>0.0</td>\n",
       "      <td>4.500233</td>\n",
       "      <td>4.437636</td>\n",
       "      <td>1023.000000</td>\n",
       "      <td>1026.1</td>\n",
       "      <td>...</td>\n",
       "      <td>1.0</td>\n",
       "      <td>0.0</td>\n",
       "      <td>-1.0</td>\n",
       "      <td>1.0</td>\n",
       "      <td>0.0</td>\n",
       "      <td>-1.0</td>\n",
       "      <td>1.0</td>\n",
       "      <td>0.0</td>\n",
       "      <td>2013.0</td>\n",
       "      <td>5.0</td>\n",
       "    </tr>\n",
       "    <tr>\n",
       "      <th>1</th>\n",
       "      <td>28.0</td>\n",
       "      <td>7.644989</td>\n",
       "      <td>31.0</td>\n",
       "      <td>64.0</td>\n",
       "      <td>5.45772</td>\n",
       "      <td>0.0</td>\n",
       "      <td>4.500233</td>\n",
       "      <td>4.437636</td>\n",
       "      <td>1017.400024</td>\n",
       "      <td>1020.0</td>\n",
       "      <td>...</td>\n",
       "      <td>8.0</td>\n",
       "      <td>0.0</td>\n",
       "      <td>-1.0</td>\n",
       "      <td>1.0</td>\n",
       "      <td>0.0</td>\n",
       "      <td>-2.0</td>\n",
       "      <td>3.0</td>\n",
       "      <td>0.0</td>\n",
       "      <td>2016.0</td>\n",
       "      <td>10.0</td>\n",
       "    </tr>\n",
       "    <tr>\n",
       "      <th>2</th>\n",
       "      <td>24.0</td>\n",
       "      <td>13.800000</td>\n",
       "      <td>49.0</td>\n",
       "      <td>56.0</td>\n",
       "      <td>5.40000</td>\n",
       "      <td>0.0</td>\n",
       "      <td>1.000000</td>\n",
       "      <td>7.000000</td>\n",
       "      <td>1012.200012</td>\n",
       "      <td>1013.8</td>\n",
       "      <td>...</td>\n",
       "      <td>7.0</td>\n",
       "      <td>0.0</td>\n",
       "      <td>-3.0</td>\n",
       "      <td>4.0</td>\n",
       "      <td>0.0</td>\n",
       "      <td>-3.0</td>\n",
       "      <td>4.0</td>\n",
       "      <td>0.0</td>\n",
       "      <td>2008.0</td>\n",
       "      <td>12.0</td>\n",
       "    </tr>\n",
       "    <tr>\n",
       "      <th>3</th>\n",
       "      <td>25.0</td>\n",
       "      <td>12.400000</td>\n",
       "      <td>31.0</td>\n",
       "      <td>64.0</td>\n",
       "      <td>8.60000</td>\n",
       "      <td>0.0</td>\n",
       "      <td>6.000000</td>\n",
       "      <td>1.000000</td>\n",
       "      <td>1011.700012</td>\n",
       "      <td>1016.5</td>\n",
       "      <td>...</td>\n",
       "      <td>1.0</td>\n",
       "      <td>0.0</td>\n",
       "      <td>-3.0</td>\n",
       "      <td>6.0</td>\n",
       "      <td>-1.0</td>\n",
       "      <td>-2.0</td>\n",
       "      <td>4.0</td>\n",
       "      <td>-1.0</td>\n",
       "      <td>2014.0</td>\n",
       "      <td>2.0</td>\n",
       "    </tr>\n",
       "    <tr>\n",
       "      <th>4</th>\n",
       "      <td>13.0</td>\n",
       "      <td>9.200000</td>\n",
       "      <td>47.0</td>\n",
       "      <td>74.0</td>\n",
       "      <td>4.00000</td>\n",
       "      <td>0.0</td>\n",
       "      <td>4.000000</td>\n",
       "      <td>5.000000</td>\n",
       "      <td>1022.200012</td>\n",
       "      <td>1023.4</td>\n",
       "      <td>...</td>\n",
       "      <td>8.0</td>\n",
       "      <td>0.0</td>\n",
       "      <td>-5.0</td>\n",
       "      <td>8.0</td>\n",
       "      <td>0.0</td>\n",
       "      <td>-5.0</td>\n",
       "      <td>8.0</td>\n",
       "      <td>0.0</td>\n",
       "      <td>2011.0</td>\n",
       "      <td>2.0</td>\n",
       "    </tr>\n",
       "    <tr>\n",
       "      <th>...</th>\n",
       "      <td>...</td>\n",
       "      <td>...</td>\n",
       "      <td>...</td>\n",
       "      <td>...</td>\n",
       "      <td>...</td>\n",
       "      <td>...</td>\n",
       "      <td>...</td>\n",
       "      <td>...</td>\n",
       "      <td>...</td>\n",
       "      <td>...</td>\n",
       "      <td>...</td>\n",
       "      <td>...</td>\n",
       "      <td>...</td>\n",
       "      <td>...</td>\n",
       "      <td>...</td>\n",
       "      <td>...</td>\n",
       "      <td>...</td>\n",
       "      <td>...</td>\n",
       "      <td>...</td>\n",
       "      <td>...</td>\n",
       "      <td>...</td>\n",
       "    </tr>\n",
       "    <tr>\n",
       "      <th>11368</th>\n",
       "      <td>4.0</td>\n",
       "      <td>7.644989</td>\n",
       "      <td>32.0</td>\n",
       "      <td>74.0</td>\n",
       "      <td>5.45772</td>\n",
       "      <td>0.0</td>\n",
       "      <td>4.500233</td>\n",
       "      <td>4.437636</td>\n",
       "      <td>1022.799988</td>\n",
       "      <td>1025.2</td>\n",
       "      <td>...</td>\n",
       "      <td>4.0</td>\n",
       "      <td>0.0</td>\n",
       "      <td>-4.0</td>\n",
       "      <td>6.0</td>\n",
       "      <td>0.0</td>\n",
       "      <td>-3.0</td>\n",
       "      <td>4.0</td>\n",
       "      <td>0.0</td>\n",
       "      <td>2015.0</td>\n",
       "      <td>6.0</td>\n",
       "    </tr>\n",
       "    <tr>\n",
       "      <th>11369</th>\n",
       "      <td>30.0</td>\n",
       "      <td>7.644989</td>\n",
       "      <td>94.0</td>\n",
       "      <td>79.0</td>\n",
       "      <td>5.45772</td>\n",
       "      <td>0.0</td>\n",
       "      <td>4.500233</td>\n",
       "      <td>4.437636</td>\n",
       "      <td>1003.000000</td>\n",
       "      <td>1007.0</td>\n",
       "      <td>...</td>\n",
       "      <td>8.0</td>\n",
       "      <td>0.0</td>\n",
       "      <td>-3.0</td>\n",
       "      <td>6.0</td>\n",
       "      <td>-1.0</td>\n",
       "      <td>-5.0</td>\n",
       "      <td>8.0</td>\n",
       "      <td>0.0</td>\n",
       "      <td>2011.0</td>\n",
       "      <td>6.0</td>\n",
       "    </tr>\n",
       "    <tr>\n",
       "      <th>11370</th>\n",
       "      <td>2.0</td>\n",
       "      <td>0.000000</td>\n",
       "      <td>64.0</td>\n",
       "      <td>65.0</td>\n",
       "      <td>4.20000</td>\n",
       "      <td>0.0</td>\n",
       "      <td>7.000000</td>\n",
       "      <td>7.000000</td>\n",
       "      <td>1015.799988</td>\n",
       "      <td>1016.5</td>\n",
       "      <td>...</td>\n",
       "      <td>3.0</td>\n",
       "      <td>0.0</td>\n",
       "      <td>-1.0</td>\n",
       "      <td>1.0</td>\n",
       "      <td>0.0</td>\n",
       "      <td>-2.0</td>\n",
       "      <td>3.0</td>\n",
       "      <td>0.0</td>\n",
       "      <td>2014.0</td>\n",
       "      <td>9.0</td>\n",
       "    </tr>\n",
       "    <tr>\n",
       "      <th>11371</th>\n",
       "      <td>29.0</td>\n",
       "      <td>8.400000</td>\n",
       "      <td>58.0</td>\n",
       "      <td>91.0</td>\n",
       "      <td>2.20000</td>\n",
       "      <td>0.0</td>\n",
       "      <td>3.000000</td>\n",
       "      <td>4.000000</td>\n",
       "      <td>1024.000000</td>\n",
       "      <td>1026.0</td>\n",
       "      <td>...</td>\n",
       "      <td>6.0</td>\n",
       "      <td>0.0</td>\n",
       "      <td>-2.0</td>\n",
       "      <td>0.0</td>\n",
       "      <td>1.0</td>\n",
       "      <td>-4.0</td>\n",
       "      <td>6.0</td>\n",
       "      <td>0.0</td>\n",
       "      <td>2014.0</td>\n",
       "      <td>5.0</td>\n",
       "    </tr>\n",
       "    <tr>\n",
       "      <th>11372</th>\n",
       "      <td>14.0</td>\n",
       "      <td>10.800000</td>\n",
       "      <td>10.0</td>\n",
       "      <td>44.0</td>\n",
       "      <td>8.00000</td>\n",
       "      <td>0.0</td>\n",
       "      <td>5.000000</td>\n",
       "      <td>7.000000</td>\n",
       "      <td>1015.700012</td>\n",
       "      <td>1019.5</td>\n",
       "      <td>...</td>\n",
       "      <td>3.0</td>\n",
       "      <td>0.0</td>\n",
       "      <td>-4.0</td>\n",
       "      <td>5.0</td>\n",
       "      <td>0.0</td>\n",
       "      <td>-2.0</td>\n",
       "      <td>3.0</td>\n",
       "      <td>0.0</td>\n",
       "      <td>2012.0</td>\n",
       "      <td>11.0</td>\n",
       "    </tr>\n",
       "  </tbody>\n",
       "</table>\n",
       "<p>11373 rows × 32 columns</p>\n",
       "</div>"
      ],
      "text/plain": [
       "         0          1     2     3        4    5         6         7   \\\n",
       "0       6.0   7.644989  69.0  66.0  5.45772  0.0  4.500233  4.437636   \n",
       "1      28.0   7.644989  31.0  64.0  5.45772  0.0  4.500233  4.437636   \n",
       "2      24.0  13.800000  49.0  56.0  5.40000  0.0  1.000000  7.000000   \n",
       "3      25.0  12.400000  31.0  64.0  8.60000  0.0  6.000000  1.000000   \n",
       "4      13.0   9.200000  47.0  74.0  4.00000  0.0  4.000000  5.000000   \n",
       "...     ...        ...   ...   ...      ...  ...       ...       ...   \n",
       "11368   4.0   7.644989  32.0  74.0  5.45772  0.0  4.500233  4.437636   \n",
       "11369  30.0   7.644989  94.0  79.0  5.45772  0.0  4.500233  4.437636   \n",
       "11370   2.0   0.000000  64.0  65.0  4.20000  0.0  7.000000  7.000000   \n",
       "11371  29.0   8.400000  58.0  91.0  2.20000  0.0  3.000000  4.000000   \n",
       "11372  14.0  10.800000  10.0  44.0  8.00000  0.0  5.000000  7.000000   \n",
       "\n",
       "                8       9   ...   22   23   24   25   26   27   28   29  \\\n",
       "0      1023.000000  1026.1  ...  1.0  0.0 -1.0  1.0  0.0 -1.0  1.0  0.0   \n",
       "1      1017.400024  1020.0  ...  8.0  0.0 -1.0  1.0  0.0 -2.0  3.0  0.0   \n",
       "2      1012.200012  1013.8  ...  7.0  0.0 -3.0  4.0  0.0 -3.0  4.0  0.0   \n",
       "3      1011.700012  1016.5  ...  1.0  0.0 -3.0  6.0 -1.0 -2.0  4.0 -1.0   \n",
       "4      1022.200012  1023.4  ...  8.0  0.0 -5.0  8.0  0.0 -5.0  8.0  0.0   \n",
       "...            ...     ...  ...  ...  ...  ...  ...  ...  ...  ...  ...   \n",
       "11368  1022.799988  1025.2  ...  4.0  0.0 -4.0  6.0  0.0 -3.0  4.0  0.0   \n",
       "11369  1003.000000  1007.0  ...  8.0  0.0 -3.0  6.0 -1.0 -5.0  8.0  0.0   \n",
       "11370  1015.799988  1016.5  ...  3.0  0.0 -1.0  1.0  0.0 -2.0  3.0  0.0   \n",
       "11371  1024.000000  1026.0  ...  6.0  0.0 -2.0  0.0  1.0 -4.0  6.0  0.0   \n",
       "11372  1015.700012  1019.5  ...  3.0  0.0 -4.0  5.0  0.0 -2.0  3.0  0.0   \n",
       "\n",
       "           30    31  \n",
       "0      2013.0   5.0  \n",
       "1      2016.0  10.0  \n",
       "2      2008.0  12.0  \n",
       "3      2014.0   2.0  \n",
       "4      2011.0   2.0  \n",
       "...       ...   ...  \n",
       "11368  2015.0   6.0  \n",
       "11369  2011.0   6.0  \n",
       "11370  2014.0   9.0  \n",
       "11371  2014.0   5.0  \n",
       "11372  2012.0  11.0  \n",
       "\n",
       "[11373 rows x 32 columns]"
      ]
     },
     "execution_count": 5,
     "metadata": {},
     "output_type": "execute_result"
    }
   ],
   "source": [
    "_datos_training, datos_test = preprocessing_gb(X_training.copy(), X_test_holdout.copy())\n",
    "\n",
    "resultados_test = y_test_holdout.copy()\n",
    "resultados_test = resultados_test.reset_index()\n",
    "resultados_test = resultados_test.drop(columns=['index'])\n",
    "resultados_test = pd.get_dummies(resultados_test, drop_first=True, columns=['llovieron_hamburguesas_al_dia_siguiente'])\n",
    "\n",
    "pd.DataFrame(datos_test)"
   ]
  },
  {
   "cell_type": "code",
   "execution_count": 40,
   "metadata": {
    "id": "_DVcfTCoefV-"
   },
   "outputs": [],
   "source": [
    "y_pred = clf_boosting.predict(datos_test)"
   ]
  },
  {
   "cell_type": "code",
   "execution_count": 41,
   "metadata": {
    "colab": {
     "base_uri": "https://localhost:8080/"
    },
    "id": "BOh4KH4MfZ0Y",
    "outputId": "1cdefbff-ac6b-40f7-c69c-596435becc35"
   },
   "outputs": [
    {
     "data": {
      "text/plain": [
       "0.8576453002725754"
      ]
     },
     "execution_count": 41,
     "metadata": {},
     "output_type": "execute_result"
    }
   ],
   "source": [
    "accuracy_score(y_pred, resultados_test)"
   ]
  },
  {
   "cell_type": "code",
   "execution_count": 42,
   "metadata": {
    "colab": {
     "base_uri": "https://localhost:8080/",
     "height": 404
    },
    "id": "SEMN1nNbfj6O",
    "outputId": "a812a934-e21a-4a6f-ce15-06b22e5bf282"
   },
   "outputs": [
    {
     "data": {
      "image/png": "[encoded data removed]",
      "text/plain": [
       "<Figure size 600x400 with 2 Axes>"
      ]
     },
     "metadata": {
      "needs_background": "light"
     },
     "output_type": "display_data"
    }
   ],
   "source": [
    "plot_confusion_matrix(resultados_test.to_numpy(), y_pred)"
   ]
  },
  {
   "cell_type": "code",
   "execution_count": 43,
   "metadata": {
    "colab": {
     "base_uri": "https://localhost:8080/"
    },
    "id": "D2m_zIWWhxhc",
    "outputId": "8c1b5373-aead-483f-d790-7883fdf39c78"
   },
   "outputs": [
    {
     "name": "stdout",
     "output_type": "stream",
     "text": [
      "              precision    recall  f1-score   support\n",
      "\n",
      "           0       0.88      0.94      0.91      8828\n",
      "           1       0.73      0.57      0.64      2545\n",
      "\n",
      "    accuracy                           0.86     11373\n",
      "   macro avg       0.81      0.76      0.78     11373\n",
      "weighted avg       0.85      0.86      0.85     11373\n",
      "\n"
     ]
    }
   ],
   "source": [
    "from sklearn.metrics import classification_report\n",
    "\n",
    "print(classification_report(resultados_test, y_pred))"
   ]
  },
  {
   "cell_type": "code",
   "execution_count": 44,
   "metadata": {
    "colab": {
     "base_uri": "https://localhost:8080/",
     "height": 638
    },
    "id": "BPiqpYAVoQSq",
    "outputId": "80e76011-3268-4f71-e136-7640aab579da"
   },
   "outputs": [
    {
     "data": {
      "image/png": "[encoded data removed]",
      "text/plain": [
       "<Figure size 1080x720 with 1 Axes>"
      ]
     },
     "metadata": {
      "needs_background": "light"
     },
     "output_type": "display_data"
    },
    {
     "data": {
      "text/plain": [
       "0.8898956971166043"
      ]
     },
     "metadata": {},
     "output_type": "display_data"
    }
   ],
   "source": [
    "fpr, tpr, thresholds = roc_curve(resultados_test.to_numpy(), clf_boosting.predict_proba(datos_test)[:, 1])\n",
    "\n",
    "plot_roc(fpr, tpr, thresholds)\n",
    "display(roc_auc_score(resultados_test.to_numpy(), clf_boosting.predict_proba(datos_test)[:, 1]))"
   ]
  },
  {
   "cell_type": "markdown",
   "metadata": {
    "id": "jS0ITQuUIuTV"
   },
   "source": [
    "# Prediccion final"
   ]
  },
  {
   "cell_type": "code",
   "execution_count": 45,
   "metadata": {
    "colab": {
     "base_uri": "https://localhost:8080/",
     "height": 634
    },
    "id": "H_OrAxVcI0Cb",
    "outputId": "d2390468-1196-4b28-ea03-346f9ac405ec"
   },
   "outputs": [
    {
     "data": {
      "text/html": [
       "<div>\n",
       "<style scoped>\n",
       "    .dataframe tbody tr th:only-of-type {\n",
       "        vertical-align: middle;\n",
       "    }\n",
       "\n",
       "    .dataframe tbody tr th {\n",
       "        vertical-align: top;\n",
       "    }\n",
       "\n",
       "    .dataframe thead th {\n",
       "        text-align: right;\n",
       "    }\n",
       "</style>\n",
       "<table border=\"1\" class=\"dataframe\">\n",
       "  <thead>\n",
       "    <tr style=\"text-align: right;\">\n",
       "      <th></th>\n",
       "      <th>barrio</th>\n",
       "      <th>dia</th>\n",
       "      <th>direccion_viento_tarde</th>\n",
       "      <th>direccion_viento_temprano</th>\n",
       "      <th>horas_de_sol</th>\n",
       "      <th>humedad_tarde</th>\n",
       "      <th>humedad_temprano</th>\n",
       "      <th>id</th>\n",
       "      <th>llovieron_hamburguesas_hoy</th>\n",
       "      <th>mm_evaporados_agua</th>\n",
       "      <th>...</th>\n",
       "      <th>presion_atmosferica_tarde</th>\n",
       "      <th>presion_atmosferica_temprano</th>\n",
       "      <th>rafaga_viento_max_direccion</th>\n",
       "      <th>rafaga_viento_max_velocidad</th>\n",
       "      <th>temp_max</th>\n",
       "      <th>temp_min</th>\n",
       "      <th>temperatura_tarde</th>\n",
       "      <th>temperatura_temprano</th>\n",
       "      <th>velocidad_viendo_tarde</th>\n",
       "      <th>velocidad_viendo_temprano</th>\n",
       "    </tr>\n",
       "  </thead>\n",
       "  <tbody>\n",
       "    <tr>\n",
       "      <th>0</th>\n",
       "      <td>Villa General Mitre</td>\n",
       "      <td>2014-12-16</td>\n",
       "      <td>Oestesuroeste</td>\n",
       "      <td>Sursureste</td>\n",
       "      <td>13.4</td>\n",
       "      <td>38.0</td>\n",
       "      <td>51.0</td>\n",
       "      <td>116706</td>\n",
       "      <td>NaN</td>\n",
       "      <td>NaN</td>\n",
       "      <td>...</td>\n",
       "      <td>1010.9</td>\n",
       "      <td>1014.4</td>\n",
       "      <td>suroeste</td>\n",
       "      <td>41.0</td>\n",
       "      <td>26.8</td>\n",
       "      <td>8.9</td>\n",
       "      <td>24.9</td>\n",
       "      <td>20.6</td>\n",
       "      <td>28.0</td>\n",
       "      <td>13.0</td>\n",
       "    </tr>\n",
       "    <tr>\n",
       "      <th>1</th>\n",
       "      <td>Nueva Pompeya</td>\n",
       "      <td>2010-10-21</td>\n",
       "      <td>Nornoreste</td>\n",
       "      <td>Estesureste</td>\n",
       "      <td>NaN</td>\n",
       "      <td>39.0</td>\n",
       "      <td>57.0</td>\n",
       "      <td>58831</td>\n",
       "      <td>no</td>\n",
       "      <td>NaN</td>\n",
       "      <td>...</td>\n",
       "      <td>1020.2</td>\n",
       "      <td>1023.8</td>\n",
       "      <td>Norte</td>\n",
       "      <td>28.0</td>\n",
       "      <td>23.3</td>\n",
       "      <td>5.0</td>\n",
       "      <td>21.5</td>\n",
       "      <td>14.7</td>\n",
       "      <td>11.0</td>\n",
       "      <td>6.0</td>\n",
       "    </tr>\n",
       "    <tr>\n",
       "      <th>2</th>\n",
       "      <td>Constitución</td>\n",
       "      <td>2013-04-09</td>\n",
       "      <td>Estesureste</td>\n",
       "      <td>Oestenoroeste</td>\n",
       "      <td>3.6</td>\n",
       "      <td>73.0</td>\n",
       "      <td>90.0</td>\n",
       "      <td>31981</td>\n",
       "      <td>si</td>\n",
       "      <td>2.4</td>\n",
       "      <td>...</td>\n",
       "      <td>1024.3</td>\n",
       "      <td>1026.7</td>\n",
       "      <td>Oestenoroeste</td>\n",
       "      <td>24.0</td>\n",
       "      <td>22.0</td>\n",
       "      <td>15.6</td>\n",
       "      <td>20.7</td>\n",
       "      <td>16.7</td>\n",
       "      <td>6.0</td>\n",
       "      <td>15.0</td>\n",
       "    </tr>\n",
       "    <tr>\n",
       "      <th>3</th>\n",
       "      <td>Agronomía</td>\n",
       "      <td>2016-02-05</td>\n",
       "      <td>Sureste</td>\n",
       "      <td>Sureste</td>\n",
       "      <td>NaN</td>\n",
       "      <td>34.0</td>\n",
       "      <td>47.0</td>\n",
       "      <td>2533</td>\n",
       "      <td>no</td>\n",
       "      <td>NaN</td>\n",
       "      <td>...</td>\n",
       "      <td>1015.8</td>\n",
       "      <td>1018.3</td>\n",
       "      <td>Sureste</td>\n",
       "      <td>30.0</td>\n",
       "      <td>29.9</td>\n",
       "      <td>14.2</td>\n",
       "      <td>27.0</td>\n",
       "      <td>20.0</td>\n",
       "      <td>11.0</td>\n",
       "      <td>15.0</td>\n",
       "    </tr>\n",
       "    <tr>\n",
       "      <th>4</th>\n",
       "      <td>Balvanera</td>\n",
       "      <td>2012-06-05</td>\n",
       "      <td>suroeste</td>\n",
       "      <td>Noroeste</td>\n",
       "      <td>NaN</td>\n",
       "      <td>77.0</td>\n",
       "      <td>87.0</td>\n",
       "      <td>7270</td>\n",
       "      <td>no</td>\n",
       "      <td>2.0</td>\n",
       "      <td>...</td>\n",
       "      <td>1007.6</td>\n",
       "      <td>1006.0</td>\n",
       "      <td>suroeste</td>\n",
       "      <td>39.0</td>\n",
       "      <td>11.5</td>\n",
       "      <td>5.5</td>\n",
       "      <td>11.2</td>\n",
       "      <td>7.0</td>\n",
       "      <td>20.0</td>\n",
       "      <td>17.0</td>\n",
       "    </tr>\n",
       "    <tr>\n",
       "      <th>...</th>\n",
       "      <td>...</td>\n",
       "      <td>...</td>\n",
       "      <td>...</td>\n",
       "      <td>...</td>\n",
       "      <td>...</td>\n",
       "      <td>...</td>\n",
       "      <td>...</td>\n",
       "      <td>...</td>\n",
       "      <td>...</td>\n",
       "      <td>...</td>\n",
       "      <td>...</td>\n",
       "      <td>...</td>\n",
       "      <td>...</td>\n",
       "      <td>...</td>\n",
       "      <td>...</td>\n",
       "      <td>...</td>\n",
       "      <td>...</td>\n",
       "      <td>...</td>\n",
       "      <td>...</td>\n",
       "      <td>...</td>\n",
       "      <td>...</td>\n",
       "    </tr>\n",
       "    <tr>\n",
       "      <th>29087</th>\n",
       "      <td>Parque Chas</td>\n",
       "      <td>2013-04-24</td>\n",
       "      <td>suroeste</td>\n",
       "      <td>Oestenoroeste</td>\n",
       "      <td>NaN</td>\n",
       "      <td>71.0</td>\n",
       "      <td>77.0</td>\n",
       "      <td>73456</td>\n",
       "      <td>no</td>\n",
       "      <td>NaN</td>\n",
       "      <td>...</td>\n",
       "      <td>1018.9</td>\n",
       "      <td>1021.2</td>\n",
       "      <td>Oeste</td>\n",
       "      <td>37.0</td>\n",
       "      <td>19.8</td>\n",
       "      <td>9.8</td>\n",
       "      <td>17.3</td>\n",
       "      <td>12.8</td>\n",
       "      <td>9.0</td>\n",
       "      <td>13.0</td>\n",
       "    </tr>\n",
       "    <tr>\n",
       "      <th>29088</th>\n",
       "      <td>Belgrano</td>\n",
       "      <td>2015-10-30</td>\n",
       "      <td>Norte</td>\n",
       "      <td>Noreste</td>\n",
       "      <td>NaN</td>\n",
       "      <td>37.0</td>\n",
       "      <td>64.0</td>\n",
       "      <td>14471</td>\n",
       "      <td>no</td>\n",
       "      <td>NaN</td>\n",
       "      <td>...</td>\n",
       "      <td>1017.9</td>\n",
       "      <td>1021.8</td>\n",
       "      <td>Nornoreste</td>\n",
       "      <td>41.0</td>\n",
       "      <td>29.3</td>\n",
       "      <td>15.6</td>\n",
       "      <td>27.8</td>\n",
       "      <td>20.2</td>\n",
       "      <td>15.0</td>\n",
       "      <td>28.0</td>\n",
       "    </tr>\n",
       "    <tr>\n",
       "      <th>29089</th>\n",
       "      <td>Villa Crespo</td>\n",
       "      <td>2011-08-09</td>\n",
       "      <td>Nornoreste</td>\n",
       "      <td>Norte</td>\n",
       "      <td>10.1</td>\n",
       "      <td>31.0</td>\n",
       "      <td>77.0</td>\n",
       "      <td>106482</td>\n",
       "      <td>no</td>\n",
       "      <td>3.2</td>\n",
       "      <td>...</td>\n",
       "      <td>1011.1</td>\n",
       "      <td>1016.3</td>\n",
       "      <td>suroeste</td>\n",
       "      <td>41.0</td>\n",
       "      <td>19.8</td>\n",
       "      <td>5.5</td>\n",
       "      <td>18.6</td>\n",
       "      <td>11.1</td>\n",
       "      <td>20.0</td>\n",
       "      <td>11.0</td>\n",
       "    </tr>\n",
       "    <tr>\n",
       "      <th>29090</th>\n",
       "      <td>Caballito</td>\n",
       "      <td>2017-04-25</td>\n",
       "      <td>Nornoreste</td>\n",
       "      <td>Norte</td>\n",
       "      <td>NaN</td>\n",
       "      <td>81.0</td>\n",
       "      <td>90.0</td>\n",
       "      <td>21057</td>\n",
       "      <td>no</td>\n",
       "      <td>NaN</td>\n",
       "      <td>...</td>\n",
       "      <td>1008.2</td>\n",
       "      <td>1014.6</td>\n",
       "      <td>Nornoreste</td>\n",
       "      <td>39.0</td>\n",
       "      <td>25.4</td>\n",
       "      <td>17.8</td>\n",
       "      <td>22.0</td>\n",
       "      <td>19.5</td>\n",
       "      <td>33.0</td>\n",
       "      <td>15.0</td>\n",
       "    </tr>\n",
       "    <tr>\n",
       "      <th>29091</th>\n",
       "      <td>Vélez Sársfield</td>\n",
       "      <td>2016-02-14</td>\n",
       "      <td>Oeste</td>\n",
       "      <td>Noroeste</td>\n",
       "      <td>7.6</td>\n",
       "      <td>47.0</td>\n",
       "      <td>77.0</td>\n",
       "      <td>102055</td>\n",
       "      <td>no</td>\n",
       "      <td>3.6</td>\n",
       "      <td>...</td>\n",
       "      <td>1013.5</td>\n",
       "      <td>1013.1</td>\n",
       "      <td>Oeste</td>\n",
       "      <td>50.0</td>\n",
       "      <td>22.2</td>\n",
       "      <td>10.9</td>\n",
       "      <td>20.7</td>\n",
       "      <td>16.9</td>\n",
       "      <td>31.0</td>\n",
       "      <td>13.0</td>\n",
       "    </tr>\n",
       "  </tbody>\n",
       "</table>\n",
       "<p>29092 rows × 23 columns</p>\n",
       "</div>"
      ],
      "text/plain": [
       "                    barrio         dia direccion_viento_tarde  \\\n",
       "0      Villa General Mitre  2014-12-16          Oestesuroeste   \n",
       "1            Nueva Pompeya  2010-10-21             Nornoreste   \n",
       "2             Constitución  2013-04-09            Estesureste   \n",
       "3                Agronomía  2016-02-05                Sureste   \n",
       "4                Balvanera  2012-06-05               suroeste   \n",
       "...                    ...         ...                    ...   \n",
       "29087          Parque Chas  2013-04-24               suroeste   \n",
       "29088             Belgrano  2015-10-30                  Norte   \n",
       "29089         Villa Crespo  2011-08-09             Nornoreste   \n",
       "29090            Caballito  2017-04-25             Nornoreste   \n",
       "29091      Vélez Sársfield  2016-02-14                  Oeste   \n",
       "\n",
       "      direccion_viento_temprano  horas_de_sol  humedad_tarde  \\\n",
       "0                    Sursureste          13.4           38.0   \n",
       "1                   Estesureste           NaN           39.0   \n",
       "2                 Oestenoroeste           3.6           73.0   \n",
       "3                       Sureste           NaN           34.0   \n",
       "4                      Noroeste           NaN           77.0   \n",
       "...                         ...           ...            ...   \n",
       "29087             Oestenoroeste           NaN           71.0   \n",
       "29088                   Noreste           NaN           37.0   \n",
       "29089                     Norte          10.1           31.0   \n",
       "29090                     Norte           NaN           81.0   \n",
       "29091                  Noroeste           7.6           47.0   \n",
       "\n",
       "       humedad_temprano      id llovieron_hamburguesas_hoy  \\\n",
       "0                  51.0  116706                        NaN   \n",
       "1                  57.0   58831                         no   \n",
       "2                  90.0   31981                         si   \n",
       "3                  47.0    2533                         no   \n",
       "4                  87.0    7270                         no   \n",
       "...                 ...     ...                        ...   \n",
       "29087              77.0   73456                         no   \n",
       "29088              64.0   14471                         no   \n",
       "29089              77.0  106482                         no   \n",
       "29090              90.0   21057                         no   \n",
       "29091              77.0  102055                         no   \n",
       "\n",
       "       mm_evaporados_agua  ...  presion_atmosferica_tarde  \\\n",
       "0                     NaN  ...                     1010.9   \n",
       "1                     NaN  ...                     1020.2   \n",
       "2                     2.4  ...                     1024.3   \n",
       "3                     NaN  ...                     1015.8   \n",
       "4                     2.0  ...                     1007.6   \n",
       "...                   ...  ...                        ...   \n",
       "29087                 NaN  ...                     1018.9   \n",
       "29088                 NaN  ...                     1017.9   \n",
       "29089                 3.2  ...                     1011.1   \n",
       "29090                 NaN  ...                     1008.2   \n",
       "29091                 3.6  ...                     1013.5   \n",
       "\n",
       "       presion_atmosferica_temprano  rafaga_viento_max_direccion  \\\n",
       "0                            1014.4                     suroeste   \n",
       "1                            1023.8                        Norte   \n",
       "2                            1026.7                Oestenoroeste   \n",
       "3                            1018.3                      Sureste   \n",
       "4                            1006.0                     suroeste   \n",
       "...                             ...                          ...   \n",
       "29087                        1021.2                        Oeste   \n",
       "29088                        1021.8                   Nornoreste   \n",
       "29089                        1016.3                     suroeste   \n",
       "29090                        1014.6                   Nornoreste   \n",
       "29091                        1013.1                        Oeste   \n",
       "\n",
       "       rafaga_viento_max_velocidad  temp_max temp_min  temperatura_tarde  \\\n",
       "0                             41.0      26.8      8.9               24.9   \n",
       "1                             28.0      23.3      5.0               21.5   \n",
       "2                             24.0      22.0     15.6               20.7   \n",
       "3                             30.0      29.9     14.2               27.0   \n",
       "4                             39.0      11.5      5.5               11.2   \n",
       "...                            ...       ...      ...                ...   \n",
       "29087                         37.0      19.8      9.8               17.3   \n",
       "29088                         41.0      29.3     15.6               27.8   \n",
       "29089                         41.0      19.8      5.5               18.6   \n",
       "29090                         39.0      25.4     17.8               22.0   \n",
       "29091                         50.0      22.2     10.9               20.7   \n",
       "\n",
       "       temperatura_temprano  velocidad_viendo_tarde  velocidad_viendo_temprano  \n",
       "0                      20.6                    28.0                       13.0  \n",
       "1                      14.7                    11.0                        6.0  \n",
       "2                      16.7                     6.0                       15.0  \n",
       "3                      20.0                    11.0                       15.0  \n",
       "4                       7.0                    20.0                       17.0  \n",
       "...                     ...                     ...                        ...  \n",
       "29087                  12.8                     9.0                       13.0  \n",
       "29088                  20.2                    15.0                       28.0  \n",
       "29089                  11.1                    20.0                       11.0  \n",
       "29090                  19.5                    33.0                       15.0  \n",
       "29091                  16.9                    31.0                       13.0  \n",
       "\n",
       "[29092 rows x 23 columns]"
      ]
     },
     "execution_count": 45,
     "metadata": {},
     "output_type": "execute_result"
    }
   ],
   "source": [
    "datos_prediccion = pd.read_csv(\n",
    "    'https://docs.google.com/spreadsheets/d/1mR_JNN0-ceiB5qV42Ff9hznz0HtWaoPF3B9zNGoNPY8/export?format=csv', low_memory=False\n",
    ")\n",
    "datos_prediccion"
   ]
  },
  {
   "cell_type": "code",
   "execution_count": 46,
   "metadata": {
    "colab": {
     "base_uri": "https://localhost:8080/",
     "height": 423
    },
    "id": "aSVa55ZOI4ST",
    "outputId": "5aa2df9a-94a2-4622-f597-22b09d87b33e"
   },
   "outputs": [
    {
     "data": {
      "text/html": [
       "<div>\n",
       "<style scoped>\n",
       "    .dataframe tbody tr th:only-of-type {\n",
       "        vertical-align: middle;\n",
       "    }\n",
       "\n",
       "    .dataframe tbody tr th {\n",
       "        vertical-align: top;\n",
       "    }\n",
       "\n",
       "    .dataframe thead th {\n",
       "        text-align: right;\n",
       "    }\n",
       "</style>\n",
       "<table border=\"1\" class=\"dataframe\">\n",
       "  <thead>\n",
       "    <tr style=\"text-align: right;\">\n",
       "      <th></th>\n",
       "      <th>llovieron_hamburguesas_al_dia_siguiente</th>\n",
       "    </tr>\n",
       "  </thead>\n",
       "  <tbody>\n",
       "    <tr>\n",
       "      <th>0</th>\n",
       "      <td>no</td>\n",
       "    </tr>\n",
       "    <tr>\n",
       "      <th>1</th>\n",
       "      <td>no</td>\n",
       "    </tr>\n",
       "    <tr>\n",
       "      <th>2</th>\n",
       "      <td>si</td>\n",
       "    </tr>\n",
       "    <tr>\n",
       "      <th>3</th>\n",
       "      <td>no</td>\n",
       "    </tr>\n",
       "    <tr>\n",
       "      <th>4</th>\n",
       "      <td>no</td>\n",
       "    </tr>\n",
       "    <tr>\n",
       "      <th>...</th>\n",
       "      <td>...</td>\n",
       "    </tr>\n",
       "    <tr>\n",
       "      <th>29087</th>\n",
       "      <td>no</td>\n",
       "    </tr>\n",
       "    <tr>\n",
       "      <th>29088</th>\n",
       "      <td>no</td>\n",
       "    </tr>\n",
       "    <tr>\n",
       "      <th>29089</th>\n",
       "      <td>no</td>\n",
       "    </tr>\n",
       "    <tr>\n",
       "      <th>29090</th>\n",
       "      <td>no</td>\n",
       "    </tr>\n",
       "    <tr>\n",
       "      <th>29091</th>\n",
       "      <td>no</td>\n",
       "    </tr>\n",
       "  </tbody>\n",
       "</table>\n",
       "<p>29092 rows × 1 columns</p>\n",
       "</div>"
      ],
      "text/plain": [
       "      llovieron_hamburguesas_al_dia_siguiente\n",
       "0                                          no\n",
       "1                                          no\n",
       "2                                          si\n",
       "3                                          no\n",
       "4                                          no\n",
       "...                                       ...\n",
       "29087                                      no\n",
       "29088                                      no\n",
       "29089                                      no\n",
       "29090                                      no\n",
       "29091                                      no\n",
       "\n",
       "[29092 rows x 1 columns]"
      ]
     },
     "execution_count": 46,
     "metadata": {},
     "output_type": "execute_result"
    }
   ],
   "source": [
    "_datos_training, X = preprocessing_gb(X_training.copy(), datos_prediccion.copy())\n",
    "predicciones_gb = clf_boosting.predict(X)\n",
    "\n",
    "predicciones_gb = pd.DataFrame(predicciones_gb).rename(columns= {0:'llovieron_hamburguesas_al_dia_siguiente'})\n",
    "predicciones_gb.replace(0, 'no', inplace= True)\n",
    "predicciones_gb.replace(1, 'si', inplace= True)\n",
    "predicciones_gb"
   ]
  },
  {
   "cell_type": "code",
   "execution_count": 47,
   "metadata": {},
   "outputs": [],
   "source": [
    "predicciones_gb.to_csv(\"Gradient_Boosting.csv\")"
   ]
  }
 ],
 "metadata": {
  "colab": {
   "name": "Gradient_Boosting.ipynb",
   "provenance": []
  },
  "kernelspec": {
   "display_name": "Python 3",
   "language": "python",
   "name": "python3"
  },
  "language_info": {
   "codemirror_mode": {
    "name": "ipython",
    "version": 3
   },
   "file_extension": ".py",
   "mimetype": "text/x-python",
   "name": "python",
   "nbconvert_exporter": "python",
   "pygments_lexer": "ipython3",
   "version": "3.9.5"
  }
 },
 "nbformat": 4,
 "nbformat_minor": 4
}
